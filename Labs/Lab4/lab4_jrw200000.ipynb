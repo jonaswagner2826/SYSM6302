{
 "cells": [
  {
   "cell_type": "markdown",
   "metadata": {},
   "source": [
    "# SYSM6302 - Lab 4\n",
    "Jonas Wagner, jrw200000"
   ]
  },
  {
   "cell_type": "code",
   "execution_count": 2,
   "metadata": {},
   "outputs": [],
   "source": [
    "import networkx as nx\n",
    "from numpy import *  # WHY!\n",
    "import matplotlib.pyplot as plt\n",
    "plt.ioff()\n",
    "import sys\n",
    "sys.path.append('../d3networkx/')\n",
    "import d3networkx as d3nx\n",
    "from d3graph import D3Graph, D3DiGraph\n",
    "import asyncio\n",
    "import random\n",
    "import randomnet"
   ]
  },
  {
   "cell_type": "markdown",
   "metadata": {},
   "source": [
    "The `randomnet` import statement provides functions to build local attachment and small world random networks. This small world network is slightly different from the version that is implemented in NetowrkX."
   ]
  },
  {
   "cell_type": "markdown",
   "metadata": {},
   "source": [
    "## Section 15.1.0: Small World Networks\n",
    "\n",
    "This function generates a small world network, where `n` nodes are connected to `q` neighboring nodes \"around the circle\" and with probability `p` to all other nodes. Even though the `randomnet.py` file contains a very similar function, this version has some extra code to lay out the network in an intuitive way (with the nodes in a circle)."
   ]
  },
  {
   "cell_type": "code",
   "execution_count": 3,
   "metadata": {},
   "outputs": [],
   "source": [
    "async def small_world(n,q,p,G=None,d3=None,x0=300,y0=300):\n",
    "    '''\n",
    "    q must be even\n",
    "    '''\n",
    "    if d3:\n",
    "        d3.set_interactive(False)\n",
    "    if G is None:\n",
    "        G = D3Graph()\n",
    "    for i in range(n):\n",
    "        G.add_node(i)\n",
    "        if d3:\n",
    "            x = 200*cos(2*pi*i/n) + x0\n",
    "            y = 200*sin(2*pi*i/n) + y0\n",
    "            d3.position_node(i,x,y)\n",
    "    # add the regular edges\n",
    "    for u in range(n):\n",
    "        for v in range(u+1,int(u+1+q/2)):\n",
    "            v = v % n\n",
    "            G.add_edge(u,v)\n",
    "\n",
    "    if d3:\n",
    "        d3.update()\n",
    "        await asyncio.sleep(3)\n",
    "        d3.set_interactive(True)\n",
    "\n",
    "    # add the random edges\n",
    "    for u in range(n):\n",
    "        for v in range(u+1,n):\n",
    "            if not G.has_edge(u,v):\n",
    "                if random.random() <= p:\n",
    "                    G.add_edge(u,v)\n",
    "\n",
    "    return G"
   ]
  },
  {
   "cell_type": "code",
   "execution_count": 4,
   "metadata": {},
   "outputs": [
    {
     "name": "stdout",
     "output_type": "stream",
     "text": [
      "websocket server started...networkx connected...visualizer connected..."
     ]
    }
   ],
   "source": [
    "d3 = await d3nx.create_d3nx_visualizer()"
   ]
  },
  {
   "cell_type": "markdown",
   "metadata": {},
   "source": [
    "Now with the visualizer running, we will visualize a small world network"
   ]
  },
  {
   "cell_type": "code",
   "execution_count": 9,
   "metadata": {},
   "outputs": [],
   "source": [
    "G = D3Graph()\n",
    "d3.set_graph(G)\n",
    "G = await small_world(20,4,0.1,G,d3)"
   ]
  },
  {
   "cell_type": "markdown",
   "metadata": {},
   "source": [
    "#### Diameter Observations\n",
    "The original circular network appeared to have a diameter of approximently half the circle (so like 10) but when the random edges are added it dramatically decreased to around 3."
   ]
  },
  {
   "cell_type": "markdown",
   "metadata": {},
   "source": [
    "#### Diameter Calculation"
   ]
  },
  {
   "cell_type": "markdown",
   "metadata": {},
   "source": [
    "Now let's plot the convergence of the small world effect."
   ]
  },
  {
   "cell_type": "code",
   "execution_count": 24,
   "metadata": {},
   "outputs": [
    {
     "data": {
      "image/png": "[encoded data removed]",
      "text/plain": [
       "<Figure size 432x288 with 1 Axes>"
      ]
     },
     "metadata": {},
     "output_type": "display_data"
    }
   ],
   "source": [
    "n = 100\n",
    "P = [0,0.0001,0.001,0.0025,0.005,0.01,0.05,0.1,0.2,0.4,0.6,0.8]\n",
    "x = []\n",
    "y = []\n",
    "for i, p in enumerate(P):\n",
    "    G = randomnet.small_world_graph(n,6,p)\n",
    "    x.append(p)\n",
    "    y.append(nx.diameter(G))\n",
    "    # calculate the diameter and store it for plotting below\n",
    "\n",
    "## Plot the Convergence\n",
    "plt.figure()\n",
    "plt.plot(x,y)\n",
    "plt.plot([0.0001,1],[(log10(n)),(log10(n))])\n",
    "plt.xlabel('prob to make random edge')\n",
    "plt.ylabel('diameter of small world network')\n",
    "plt.show()"
   ]
  },
  {
   "cell_type": "markdown",
   "metadata": {},
   "source": [
    "The addition of random edges being added to the network would add an additional path between nodes and in the best case, take the path that made up the original diameter and turn it to 2. If you randomly do this enough, there will eventlly make every node connected."
   ]
  },
  {
   "cell_type": "markdown",
   "metadata": {},
   "source": [
    "## Section 8.1-8.4.14: Fitting Power Law\n",
    "\n",
    "The following helper functions provide easy access to the degree sequence and the degree and cumulative degree distributions."
   ]
  },
  {
   "cell_type": "code",
   "execution_count": 28,
   "metadata": {},
   "outputs": [],
   "source": [
    "def degree_sequence(G):\n",
    "    return [d for n, d in G.degree()]\n",
    "\n",
    "def degree_distribution(G,normalize=True):\n",
    "    deg_sequence = degree_sequence(G)\n",
    "    max_degree = max(deg_sequence)\n",
    "    ddist = zeros((max_degree+1,))\n",
    "    for d in deg_sequence:\n",
    "        ddist[d] += 1\n",
    "    if normalize:\n",
    "        ddist = ddist/float(G.number_of_nodes())\n",
    "    return ddist\n",
    "\n",
    "def cumulative_degree_distribution(G):\n",
    "    ddist = degree_distribution(G)\n",
    "    cdist = [ ddist[k:].sum()  for k in range(len(ddist)) ] \n",
    "    return cdist"
   ]
  },
  {
   "cell_type": "markdown",
   "metadata": {},
   "source": [
    "The following function, which you must complete, plots the degree distribution and calculates the power law coefficient, $\\alpha$."
   ]
  },
  {
   "cell_type": "code",
   "execution_count": 91,
   "metadata": {},
   "outputs": [],
   "source": [
    "def calc_powerlaw(G,kmin=None):\n",
    "    ddist = degree_distribution(G,normalize=True)\n",
    "    cdist = cumulative_degree_distribution(G)\n",
    "    k = arange(len(ddist))\n",
    "\n",
    "    alpha = 1 # calculate using Newman (8.6)!\n",
    "    sigma = 0 # calculate using Newman (8.7)!\n",
    "    print( '%1.2f +/- %1.2f' % (alpha,sigma) )\n",
    "    \n",
    "    # Assign Values for Ploting\n",
    "    xvalues = k;\n",
    "    print(size(k))\n",
    "    barheights = ddist # Degree Dist\n",
    "    yvalues = cdist; # Cumulative Dist\n",
    "    \n",
    "    # Plot Degree Dist\n",
    "    plt.figure(figsize=(8,12))\n",
    "    plt.subplot(211)\n",
    "    plt.bar(xvalues,barheights, width=0.8, bottom=0, color='b')\n",
    "    plt.autoscale('True')\n",
    "    \n",
    "    # Plot cdist\n",
    "    plt.subplot(212)\n",
    "    plt.loglog(xvalues,yvalues)\n",
    "    plt.grid(True)"
   ]
  },
  {
   "cell_type": "code",
   "execution_count": 92,
   "metadata": {},
   "outputs": [
    {
     "name": "stdout",
     "output_type": "stream",
     "text": [
      "1.00 +/- 0.00\n",
      "795\n"
     ]
    }
   ],
   "source": [
    "calc_powerlaw(G)"
   ]
  },
  {
   "cell_type": "code",
   "execution_count": null,
   "metadata": {},
   "outputs": [],
   "source": []
  },
  {
   "cell_type": "code",
   "execution_count": 93,
   "metadata": {},
   "outputs": [
    {
     "data": {
      "image/png": "[encoded data removed]",
      "text/plain": [
       "<Figure size 576x864 with 2 Axes>"
      ]
     },
     "metadata": {},
     "output_type": "display_data"
    }
   ],
   "source": [
    "plt.show()"
   ]
  },
  {
   "cell_type": "markdown",
   "metadata": {},
   "source": [
    "#### Degree Distribution calculation and ploting"
   ]
  },
  {
   "cell_type": "code",
   "execution_count": 33,
   "metadata": {},
   "outputs": [
    {
     "name": "stdout",
     "output_type": "stream",
     "text": [
      "0.00 +/- 0.00\n"
     ]
    },
    {
     "ename": "NameError",
     "evalue": "name 'xvalues' is not defined",
     "output_type": "error",
     "traceback": [
      "Traceback \u001b[1;36m(most recent call last)\u001b[0m:\n",
      "  File \u001b[0;32m\"<ipython-input-33-08757bfa50b5>\"\u001b[0m, line \u001b[0;32m3\u001b[0m, in \u001b[0;35m<module>\u001b[0m\n    calc_powerlaw(G,1) # select kmin!\n",
      "\u001b[1;36m  File \u001b[1;32m\"<ipython-input-31-0d8b11ef52cb>\"\u001b[1;36m, line \u001b[1;32m12\u001b[1;36m, in \u001b[1;35mcalc_powerlaw\u001b[1;36m\u001b[0m\n\u001b[1;33m    plt.bar(xvalues,barheights, width=0.8, bottom=0, color='b') # replace xvalues and barheights!\u001b[0m\n",
      "\u001b[1;31mNameError\u001b[0m\u001b[1;31m:\u001b[0m name 'xvalues' is not defined\n"
     ]
    }
   ],
   "source": [
    "# japanese.edgelist\n",
    "G = nx.read_weighted_edgelist('japanese.edgelist',create_using=nx.DiGraph)\n",
    "calc_powerlaw(G,kmin) # select kmin!\n",
    "plt.show()"
   ]
  },
  {
   "cell_type": "code",
   "execution_count": 30,
   "metadata": {},
   "outputs": [],
   "source": [
    "# ca-HepTh.edgelist\n",
    "G = nx.read_weighted_edgelist('ca-HepTh.edgelist',create_using=nx.Graph)\n",
    "calc_powerlaw(G,kmin) # select kmin!\n",
    "plt.show()"
   ]
  },
  {
   "cell_type": "code",
   "execution_count": 30,
   "metadata": {},
   "outputs": [
    {
     "ename": "NameError",
     "evalue": "name 'kmin' is not defined",
     "output_type": "error",
     "traceback": [
      "Traceback \u001b[1;36m(most recent call last)\u001b[0m:\n",
      "\u001b[1;36m  File \u001b[1;32m\"<ipython-input-30-e459bc2dc75a>\"\u001b[1;36m, line \u001b[1;32m2\u001b[1;36m, in \u001b[1;35m<module>\u001b[1;36m\u001b[0m\n\u001b[1;33m    calc_powerlaw(G,kmin) # select kmin!\u001b[0m\n",
      "\u001b[1;31mNameError\u001b[0m\u001b[1;31m:\u001b[0m name 'kmin' is not defined\n"
     ]
    }
   ],
   "source": [
    "# soc-Epinions1.edgelist\n",
    "G = nx.read_weighted_edgelist('soc-Epinions1.edgelist',create_using=nx.DiGraph)\n",
    "calc_powerlaw(G,kmin) # select kmin!\n",
    "plt.show()"
   ]
  },
  {
   "cell_type": "code",
   "execution_count": null,
   "metadata": {},
   "outputs": [],
   "source": []
  },
  {
   "cell_type": "markdown",
   "metadata": {},
   "source": [
    "## Giant Component"
   ]
  },
  {
   "cell_type": "code",
   "execution_count": 22,
   "metadata": {},
   "outputs": [],
   "source": []
  },
  {
   "cell_type": "markdown",
   "metadata": {},
   "source": [
    "## Degree Distributions of Random Network Models"
   ]
  },
  {
   "cell_type": "code",
   "execution_count": 25,
   "metadata": {},
   "outputs": [],
   "source": [
    "N = 5000"
   ]
  },
  {
   "cell_type": "markdown",
   "metadata": {},
   "source": [
    "### Erdos-Renyi"
   ]
  },
  {
   "cell_type": "code",
   "execution_count": 10,
   "metadata": {},
   "outputs": [],
   "source": [
    "G = nx.erdos_renyi_graph(N,p)"
   ]
  },
  {
   "cell_type": "markdown",
   "metadata": {},
   "source": [
    "### Small-World"
   ]
  },
  {
   "cell_type": "code",
   "execution_count": 11,
   "metadata": {},
   "outputs": [],
   "source": [
    "G = randomnet.small_world_graph(N,q,p)"
   ]
  },
  {
   "cell_type": "markdown",
   "metadata": {},
   "source": [
    "### Barabasi-Albert"
   ]
  },
  {
   "cell_type": "code",
   "execution_count": 12,
   "metadata": {},
   "outputs": [],
   "source": [
    "G = nx.barabasi_albert_graph(N,m)"
   ]
  },
  {
   "cell_type": "markdown",
   "metadata": {},
   "source": [
    "### Local Attachment"
   ]
  },
  {
   "cell_type": "code",
   "execution_count": 13,
   "metadata": {},
   "outputs": [],
   "source": [
    "G = randomnet.local_attachment_graph(N,m,r)"
   ]
  },
  {
   "cell_type": "markdown",
   "metadata": {},
   "source": [
    "### Duplication Divergence"
   ]
  },
  {
   "cell_type": "code",
   "execution_count": 14,
   "metadata": {},
   "outputs": [],
   "source": [
    "G = nx.duplication_divergence_graph(N,s)"
   ]
  },
  {
   "cell_type": "markdown",
   "metadata": {},
   "source": [
    "## Fitting Random Models"
   ]
  },
  {
   "cell_type": "code",
   "execution_count": 15,
   "metadata": {},
   "outputs": [],
   "source": [
    "G = nx.read_weighted_edgelist('ca-HepTh.edgelist')\n",
    "n = G.number_of_nodes()\n",
    "m = G.number_of_edges()"
   ]
  },
  {
   "cell_type": "markdown",
   "metadata": {},
   "source": [
    "## Configuration Model"
   ]
  },
  {
   "cell_type": "code",
   "execution_count": 16,
   "metadata": {},
   "outputs": [],
   "source": [
    "G = nx.read_weighted_edgelist('texas_road_sample.edgelist')\n",
    "G = nx.read_weighted_edgelist('international_airports.edgelist')"
   ]
  }
 ],
 "metadata": {
  "kernelspec": {
   "display_name": "Python 3 (Spyder)",
   "language": "python3",
   "name": "python3"
  },
  "language_info": {
   "codemirror_mode": {
    "name": "ipython",
    "version": 3
   },
   "file_extension": ".py",
   "mimetype": "text/x-python",
   "name": "python",
   "nbconvert_exporter": "python",
   "pygments_lexer": "ipython3",
   "version": "3.8.5"
  }
 },
 "nbformat": 4,
 "nbformat_minor": 4
}
