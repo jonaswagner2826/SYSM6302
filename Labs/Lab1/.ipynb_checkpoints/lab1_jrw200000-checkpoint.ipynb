{
 "cells": [
  {
   "cell_type": "markdown",
   "metadata": {},
   "source": [
    "# SYSM 6302 - Lab 1"
   ]
  },
  {
   "cell_type": "code",
   "execution_count": 1,
   "metadata": {},
   "outputs": [],
   "source": [
    "import networkx as nx\n",
    "import numpy as np\n",
    "import matplotlib as mpl\n",
    "import pandas as pd"
   ]
  },
  {
   "cell_type": "markdown",
   "metadata": {},
   "source": [
    "### Section 6.1 & 6.2 - Graph Definition"
   ]
  },
  {
   "cell_type": "markdown",
   "metadata": {},
   "source": [
    "##### Graph Object Definition"
   ]
  },
  {
   "cell_type": "code",
   "execution_count": 2,
   "metadata": {},
   "outputs": [],
   "source": [
    "G = nx.Graph()"
   ]
  },
  {
   "cell_type": "markdown",
   "metadata": {},
   "source": [
    "##### Graph Construction"
   ]
  },
  {
   "cell_type": "code",
   "execution_count": 3,
   "metadata": {},
   "outputs": [],
   "source": [
    "G.add_edge(1,2)\n",
    "G.add_edge(2,3)\n",
    "#... other things to make full graph, but easier other way"
   ]
  },
  {
   "cell_type": "markdown",
   "metadata": {},
   "source": [
    "##### Alternative Construction Method"
   ]
  },
  {
   "cell_type": "code",
   "execution_count": 4,
   "metadata": {},
   "outputs": [],
   "source": [
    "G = nx.Graph()\n",
    "G.add_nodes_from(range(1,7)) # Added latter for reasons\n",
    "G.add_edges_from([(1,2),(1,5),(2,3),(2,4),(5,3),(3,4),(3,6)])"
   ]
  },
  {
   "cell_type": "markdown",
   "metadata": {},
   "source": [
    "##### Visualization for reasons"
   ]
  },
  {
   "cell_type": "code",
   "execution_count": 5,
   "metadata": {},
   "outputs": [
    {
     "data": {
      "image/png": "[encoded data removed]",
      "text/plain": [
       "<Figure size 432x288 with 1 Axes>"
      ]
     },
     "metadata": {},
     "output_type": "display_data"
    }
   ],
   "source": [
    "nx.draw(G)"
   ]
  },
  {
   "cell_type": "markdown",
   "metadata": {},
   "source": [
    "##### Network Size"
   ]
  },
  {
   "cell_type": "code",
   "execution_count": 6,
   "metadata": {},
   "outputs": [
    {
     "name": "stdout",
     "output_type": "stream",
     "text": [
      "#Nodes: 6, #Edges: 7\n"
     ]
    }
   ],
   "source": [
    "print('#Nodes: %i, #Edges: %i' % (G.number_of_nodes(),G.number_of_edges()))"
   ]
  },
  {
   "cell_type": "markdown",
   "metadata": {},
   "source": [
    "##### Network Verification"
   ]
  },
  {
   "cell_type": "code",
   "execution_count": 7,
   "metadata": {},
   "outputs": [
    {
     "name": "stdout",
     "output_type": "stream",
     "text": [
      "G_edge_3-4:True\n",
      "G_edge_4-6:False\n"
     ]
    }
   ],
   "source": [
    "print('G_edge_3-4:' + str(G.has_edge(3,4)))\n",
    "print('G_edge_4-6:' + str(G.has_edge(4,6)))"
   ]
  },
  {
   "cell_type": "markdown",
   "metadata": {},
   "source": [
    "### Section 6.2 - Adjacency Matrix"
   ]
  },
  {
   "cell_type": "markdown",
   "metadata": {},
   "source": [
    "##### Adjacency Matrix"
   ]
  },
  {
   "cell_type": "code",
   "execution_count": 8,
   "metadata": {},
   "outputs": [
    {
     "name": "stdout",
     "output_type": "stream",
     "text": [
      "A = \n",
      "\n",
      "[[0 1 0 0 1 0]\n",
      " [1 0 1 1 0 0]\n",
      " [0 1 0 1 1 1]\n",
      " [0 1 1 0 0 0]\n",
      " [1 0 1 0 0 0]\n",
      " [0 0 1 0 0 0]]\n"
     ]
    }
   ],
   "source": [
    "A = nx.adjacency_matrix(G).todense().T\n",
    "print('A = \\n')\n",
    "print(A)"
   ]
  },
  {
   "cell_type": "markdown",
   "metadata": {},
   "source": [
    "##### Symetric Check"
   ]
  },
  {
   "cell_type": "code",
   "execution_count": 9,
   "metadata": {},
   "outputs": [
    {
     "name": "stdout",
     "output_type": "stream",
     "text": [
      "A.T = \n",
      "\n",
      "[[0 1 0 0 1 0]\n",
      " [1 0 1 1 0 0]\n",
      " [0 1 0 1 1 1]\n",
      " [0 1 1 0 0 0]\n",
      " [1 0 1 0 0 0]\n",
      " [0 0 1 0 0 0]]\n",
      "\n",
      " Symetric?: True\n"
     ]
    }
   ],
   "source": [
    "print('A.T = \\n')\n",
    "print(A.T)\n",
    "print('\\n Symetric?: ' + str(np.array_equal(A,A.T)))"
   ]
  },
  {
   "cell_type": "markdown",
   "metadata": {},
   "source": [
    "### Section 6.3 - Weighted Networks"
   ]
  },
  {
   "cell_type": "markdown",
   "metadata": {},
   "source": [
    "##### Graph Construction"
   ]
  },
  {
   "cell_type": "code",
   "execution_count": 10,
   "metadata": {},
   "outputs": [],
   "source": [
    "G = nx.Graph()\n",
    "G.add_nodes_from(range(1,7))\n",
    "G.add_weighted_edges_from([(1,2,1),(1,5,3),(2,2,1),(2,3,2),(2,4,1),(5,3,1),(3,4,1),(3,6,1),(6,6,1)])"
   ]
  },
  {
   "cell_type": "markdown",
   "metadata": {},
   "source": [
    "##### Adjacency Matrix"
   ]
  },
  {
   "cell_type": "code",
   "execution_count": 11,
   "metadata": {},
   "outputs": [
    {
     "name": "stdout",
     "output_type": "stream",
     "text": [
      "A = \n",
      "\n",
      "[[0 1 0 0 3 0]\n",
      " [1 1 2 1 0 0]\n",
      " [0 2 0 1 1 1]\n",
      " [0 1 1 0 0 0]\n",
      " [3 0 1 0 0 0]\n",
      " [0 0 1 0 0 1]]\n"
     ]
    }
   ],
   "source": [
    "A = nx.adjacency_matrix(G).todense().T\n",
    "print('A = \\n')\n",
    "print(A)"
   ]
  },
  {
   "cell_type": "markdown",
   "metadata": {},
   "source": [
    "##### Network Modification"
   ]
  },
  {
   "cell_type": "code",
   "execution_count": 12,
   "metadata": {},
   "outputs": [],
   "source": [
    "G[2][2]['weight'] = 2\n",
    "G[6][6]['weight'] = 2"
   ]
  },
  {
   "cell_type": "code",
   "execution_count": 13,
   "metadata": {},
   "outputs": [
    {
     "name": "stdout",
     "output_type": "stream",
     "text": [
      "A = \n",
      "\n",
      "[[0 1 0 0 3 0]\n",
      " [1 2 2 1 0 0]\n",
      " [0 2 0 1 1 1]\n",
      " [0 1 1 0 0 0]\n",
      " [3 0 1 0 0 0]\n",
      " [0 0 1 0 0 2]]\n"
     ]
    }
   ],
   "source": [
    "A = nx.adjacency_matrix(G).todense()\n",
    "print('A = \\n')\n",
    "print(A)"
   ]
  },
  {
   "cell_type": "markdown",
   "metadata": {},
   "source": [
    "### Section 6.4 - Directed Networks"
   ]
  },
  {
   "cell_type": "markdown",
   "metadata": {},
   "source": [
    "#### Directed Network Construction"
   ]
  },
  {
   "cell_type": "code",
   "execution_count": 14,
   "metadata": {},
   "outputs": [],
   "source": [
    "G = nx.DiGraph()\n",
    "G.add_nodes_from(range(1,7))\n",
    "G.add_edges_from([(1,3),(2,6),(3,2),(4,1),(4,5),(5,3),(6,5),(6,4)])"
   ]
  },
  {
   "cell_type": "markdown",
   "metadata": {},
   "source": [
    "#### Adjacent Matrix"
   ]
  },
  {
   "cell_type": "code",
   "execution_count": 15,
   "metadata": {},
   "outputs": [
    {
     "name": "stdout",
     "output_type": "stream",
     "text": [
      "[[0 0 0 1 0 0]\n",
      " [0 0 1 0 0 0]\n",
      " [1 0 0 0 1 0]\n",
      " [0 0 0 0 0 1]\n",
      " [0 0 0 1 0 1]\n",
      " [0 1 0 0 0 0]]\n"
     ]
    }
   ],
   "source": [
    "A = nx.adjacency_matrix(G).todense().T\n",
    "print(A)"
   ]
  },
  {
   "cell_type": "markdown",
   "metadata": {},
   "source": [
    "### Section 6.4.1"
   ]
  },
  {
   "cell_type": "markdown",
   "metadata": {},
   "source": [
    "#### Data Import"
   ]
  },
  {
   "cell_type": "code",
   "execution_count": 16,
   "metadata": {},
   "outputs": [],
   "source": [
    "G = nx.read_gml('proofwikidefs_la.gml','name')"
   ]
  },
  {
   "cell_type": "markdown",
   "metadata": {},
   "source": [
    "##### Cocitation Algorithm"
   ]
  },
  {
   "cell_type": "code",
   "execution_count": 17,
   "metadata": {},
   "outputs": [],
   "source": [
    "def cocitation(G):\n",
    "    n = G.number_of_nodes()\n",
    "    C = np.zeros((n,n))\n",
    "    for i in range(n):\n",
    "        for j in range(n):\n",
    "            g = 0\n",
    "            for k in range(n):\n",
    "                if G.has_edge(k,i) and G.has_edge(k,j):\n",
    "                    g += 1\n",
    "            C[i][j] = g\n",
    "    G_c = nx.from_numpy_matrix(C)\n",
    "    return C, G_c"
   ]
  },
  {
   "cell_type": "markdown",
   "metadata": {},
   "source": [
    " "
   ]
  },
  {
   "cell_type": "code",
   "execution_count": 175,
   "metadata": {},
   "outputs": [],
   "source": [
    "def cocitation(G): # Attempt w/ graphical method\n",
    "    G_c = nx.Graph()\n",
    "    G_c.add_nodes_from(G)\n",
    "    for i_node in G.nodes():\n",
    "        for j_node in G.nodes():\n",
    "            if i_node == j_node:\n",
    "                g_ij = 2 * len(set(G.predecessors(i_node)))\n",
    "            else:\n",
    "                g_ij = len(set(G.predecessors(i_node)) & set(G.predecessors(j_node)))\n",
    "            G_c.add_weighted_edges_from([(i_node,j_node,g_ij)])\n",
    "    return G_c"
   ]
  },
  {
   "cell_type": "markdown",
   "metadata": {},
   "source": [
    "#### Testing Cocitation Algorithm"
   ]
  },
  {
   "cell_type": "code",
   "execution_count": 19,
   "metadata": {},
   "outputs": [
    {
     "data": {
      "text/plain": [
       "<networkx.classes.graph.Graph at 0x1edfc676e80>"
      ]
     },
     "metadata": {},
     "output_type": "display_data"
    }
   ],
   "source": [
    "G_c = cocitation(G)\n",
    "display(G_c)"
   ]
  },
  {
   "cell_type": "code",
   "execution_count": 20,
   "metadata": {},
   "outputs": [
    {
     "name": "stdout",
     "output_type": "stream",
     "text": [
      "[[2 0 0 ... 0 0 0]\n",
      " [0 4 0 ... 0 0 0]\n",
      " [0 0 0 ... 0 0 0]\n",
      " ...\n",
      " [0 0 0 ... 0 0 0]\n",
      " [0 0 0 ... 0 4 0]\n",
      " [0 0 0 ... 0 0 0]]\n"
     ]
    }
   ],
   "source": [
    "C1 = nx.adjacency_matrix(G_c).todense().T\n",
    "print(C1)"
   ]
  },
  {
   "cell_type": "code",
   "execution_count": 21,
   "metadata": {},
   "outputs": [
    {
     "name": "stdout",
     "output_type": "stream",
     "text": [
      "[[1. 0. 0. ... 0. 0. 0.]\n",
      " [0. 2. 0. ... 0. 0. 0.]\n",
      " [0. 0. 0. ... 0. 0. 0.]\n",
      " ...\n",
      " [0. 0. 0. ... 0. 0. 0.]\n",
      " [0. 0. 0. ... 0. 2. 0.]\n",
      " [0. 0. 0. ... 0. 0. 0.]]\n"
     ]
    }
   ],
   "source": [
    "A = nx.adjacency_matrix(G).todense().T\n",
    "C2 = np.dot(A,A.T)\n",
    "print(C2)"
   ]
  },
  {
   "cell_type": "code",
   "execution_count": 22,
   "metadata": {},
   "outputs": [
    {
     "data": {
      "text/plain": [
       "matrix([[1., 0., 0., ..., 0., 0., 0.],\n",
       "        [0., 2., 0., ..., 0., 0., 0.],\n",
       "        [0., 0., 0., ..., 0., 0., 0.],\n",
       "        ...,\n",
       "        [0., 0., 0., ..., 0., 0., 0.],\n",
       "        [0., 0., 0., ..., 0., 2., 0.],\n",
       "        [0., 0., 0., ..., 0., 0., 0.]])"
      ]
     },
     "metadata": {},
     "output_type": "display_data"
    }
   ],
   "source": [
    "C_diff = C1 - C2\n",
    "display(C_diff)"
   ]
  },
  {
   "cell_type": "code",
   "execution_count": 23,
   "metadata": {},
   "outputs": [
    {
     "name": "stdout",
     "output_type": "stream",
     "text": [
      "Difference between methods: -3839.0\n"
     ]
    }
   ],
   "source": [
    "print('Difference between methods: ' + str(C_diff.sum().sum()))"
   ]
  },
  {
   "cell_type": "markdown",
   "metadata": {},
   "source": [
    "This may be an issue that is caused due to the lack of weighting being acounted for within the concitation function."
   ]
  },
  {
   "cell_type": "markdown",
   "metadata": {},
   "source": [
    "#### Weighting Implimentation"
   ]
  },
  {
   "cell_type": "code",
   "execution_count": 24,
   "metadata": {},
   "outputs": [],
   "source": [
    "def cocitation(G): # Attempt 2 w/ graphical method\n",
    "    G_c = nx.Graph()\n",
    "    G_c.add_nodes_from(G)\n",
    "    for i_node in G.nodes():\n",
    "        for j_node in G.nodes():\n",
    "            ij_nodes = set(G.predecessors(i_node)) & set(G.predecessors(j_node))\n",
    "            g_ij = 0\n",
    "            for ij_node in ij_nodes:\n",
    "                g_ij += G[ij_node][i_node]['weight'] * G[ij_node][j_node]['weight']\n",
    "            if g_ij > 0:\n",
    "                G_c.add_weighted_edges_from([(i_node,j_node,g_ij)])\n",
    "    return G_c"
   ]
  },
  {
   "cell_type": "code",
   "execution_count": 25,
   "metadata": {},
   "outputs": [],
   "source": [
    "G_c = cocitation(G)"
   ]
  },
  {
   "cell_type": "code",
   "execution_count": 26,
   "metadata": {},
   "outputs": [
    {
     "name": "stdout",
     "output_type": "stream",
     "text": [
      "[[1. 0. 0. ... 0. 0. 0.]\n",
      " [0. 2. 0. ... 0. 0. 0.]\n",
      " [0. 0. 0. ... 0. 0. 0.]\n",
      " ...\n",
      " [0. 0. 0. ... 0. 0. 0.]\n",
      " [0. 0. 0. ... 0. 2. 0.]\n",
      " [0. 0. 0. ... 0. 0. 0.]]\n"
     ]
    }
   ],
   "source": [
    "C1 = nx.adjacency_matrix(G_c).todense().T\n",
    "print(C1)"
   ]
  },
  {
   "cell_type": "code",
   "execution_count": 27,
   "metadata": {},
   "outputs": [
    {
     "name": "stdout",
     "output_type": "stream",
     "text": [
      "[[1. 0. 0. ... 0. 0. 0.]\n",
      " [0. 2. 0. ... 0. 0. 0.]\n",
      " [0. 0. 0. ... 0. 0. 0.]\n",
      " ...\n",
      " [0. 0. 0. ... 0. 0. 0.]\n",
      " [0. 0. 0. ... 0. 2. 0.]\n",
      " [0. 0. 0. ... 0. 0. 0.]]\n"
     ]
    }
   ],
   "source": [
    "A = nx.adjacency_matrix(G).todense().T\n",
    "C2 = np.dot(A,A.T)\n",
    "print(C2)"
   ]
  },
  {
   "cell_type": "code",
   "execution_count": 28,
   "metadata": {},
   "outputs": [
    {
     "data": {
      "text/plain": [
       "matrix([[0., 0., 0., ..., 0., 0., 0.],\n",
       "        [0., 0., 0., ..., 0., 0., 0.],\n",
       "        [0., 0., 0., ..., 0., 0., 0.],\n",
       "        ...,\n",
       "        [0., 0., 0., ..., 0., 0., 0.],\n",
       "        [0., 0., 0., ..., 0., 0., 0.],\n",
       "        [0., 0., 0., ..., 0., 0., 0.]])"
      ]
     },
     "metadata": {},
     "output_type": "display_data"
    }
   ],
   "source": [
    "C_diff = C1 - C2\n",
    "display(C_diff)"
   ]
  },
  {
   "cell_type": "code",
   "execution_count": 29,
   "metadata": {},
   "outputs": [
    {
     "name": "stdout",
     "output_type": "stream",
     "text": [
      "Difference between methods: 0.0\n"
     ]
    }
   ],
   "source": [
    "print('Difference between methods: ' + str(C_diff.sum().sum()))"
   ]
  },
  {
   "cell_type": "markdown",
   "metadata": {},
   "source": [
    "When acounting for the weighting of the edges, the discrepancy was eliminated."
   ]
  },
  {
   "cell_type": "markdown",
   "metadata": {},
   "source": [
    "#### 'Linear Combiniation' Node"
   ]
  },
  {
   "cell_type": "markdown",
   "metadata": {},
   "source": [
    "The following provides a table of edges between the neighbors of the 'Linear Combination' node."
   ]
  },
  {
   "cell_type": "code",
   "execution_count": 174,
   "metadata": {},
   "outputs": [
    {
     "data": {
      "text/html": [
       "<div>\n",
       "<style scoped>\n",
       "    .dataframe tbody tr th:only-of-type {\n",
       "        vertical-align: middle;\n",
       "    }\n",
       "\n",
       "    .dataframe tbody tr th {\n",
       "        vertical-align: top;\n",
       "    }\n",
       "\n",
       "    .dataframe thead th {\n",
       "        text-align: right;\n",
       "    }\n",
       "</style>\n",
       "<table border=\"1\" class=\"dataframe\">\n",
       "  <thead>\n",
       "    <tr style=\"text-align: right;\">\n",
       "      <th></th>\n",
       "      <th>Node 1</th>\n",
       "      <th>Node 2</th>\n",
       "      <th>Weight</th>\n",
       "    </tr>\n",
       "  </thead>\n",
       "  <tbody>\n",
       "    <tr>\n",
       "      <th>0</th>\n",
       "      <td>Linear Combination</td>\n",
       "      <td>Vector (Euclidean Space)</td>\n",
       "      <td>10.0</td>\n",
       "    </tr>\n",
       "    <tr>\n",
       "      <th>1</th>\n",
       "      <td>Linear Combination</td>\n",
       "      <td>Set of All Linear Transformations</td>\n",
       "      <td>1.0</td>\n",
       "    </tr>\n",
       "    <tr>\n",
       "      <th>2</th>\n",
       "      <td>Linear Combination</td>\n",
       "      <td>Ordered Basis</td>\n",
       "      <td>3.0</td>\n",
       "    </tr>\n",
       "    <tr>\n",
       "      <th>3</th>\n",
       "      <td>Linear Combination</td>\n",
       "      <td>Linearly Independent/Sequence/Real Vector Space</td>\n",
       "      <td>4.0</td>\n",
       "    </tr>\n",
       "    <tr>\n",
       "      <th>4</th>\n",
       "      <td>Linear Combination</td>\n",
       "      <td>Linearly Dependent/Sequence/Real Vector Space</td>\n",
       "      <td>6.0</td>\n",
       "    </tr>\n",
       "    <tr>\n",
       "      <th>5</th>\n",
       "      <td>Linear Combination</td>\n",
       "      <td>Linear Span</td>\n",
       "      <td>6.0</td>\n",
       "    </tr>\n",
       "    <tr>\n",
       "      <th>6</th>\n",
       "      <td>Linear Combination</td>\n",
       "      <td>Linear Combination of Subset</td>\n",
       "      <td>10.0</td>\n",
       "    </tr>\n",
       "    <tr>\n",
       "      <th>7</th>\n",
       "      <td>Linear Combination</td>\n",
       "      <td>Linear Combination of Sequence</td>\n",
       "      <td>8.0</td>\n",
       "    </tr>\n",
       "    <tr>\n",
       "      <th>8</th>\n",
       "      <td>Linear Combination</td>\n",
       "      <td>Linear Combination of Empty Set</td>\n",
       "      <td>6.0</td>\n",
       "    </tr>\n",
       "    <tr>\n",
       "      <th>9</th>\n",
       "      <td>Linear Combination</td>\n",
       "      <td>Linear Combination</td>\n",
       "      <td>26.0</td>\n",
       "    </tr>\n",
       "    <tr>\n",
       "      <th>10</th>\n",
       "      <td>Linear Combination</td>\n",
       "      <td>Matrix</td>\n",
       "      <td>1.0</td>\n",
       "    </tr>\n",
       "    <tr>\n",
       "      <th>11</th>\n",
       "      <td>Linear Combination</td>\n",
       "      <td>Basis (Linear Algebra)</td>\n",
       "      <td>2.0</td>\n",
       "    </tr>\n",
       "    <tr>\n",
       "      <th>12</th>\n",
       "      <td>Linear Combination</td>\n",
       "      <td>Matrix Product (Conventional)</td>\n",
       "      <td>1.0</td>\n",
       "    </tr>\n",
       "    <tr>\n",
       "      <th>13</th>\n",
       "      <td>Linear Combination</td>\n",
       "      <td>Module</td>\n",
       "      <td>8.0</td>\n",
       "    </tr>\n",
       "    <tr>\n",
       "      <th>14</th>\n",
       "      <td>Linear Combination</td>\n",
       "      <td>Linearly Independent/Set/Real Vector Space</td>\n",
       "      <td>1.0</td>\n",
       "    </tr>\n",
       "    <tr>\n",
       "      <th>15</th>\n",
       "      <td>Linear Combination</td>\n",
       "      <td>Linearly Dependent/Set/Real Vector Space</td>\n",
       "      <td>2.0</td>\n",
       "    </tr>\n",
       "    <tr>\n",
       "      <th>16</th>\n",
       "      <td>Linear Combination</td>\n",
       "      <td>Linearly Independent/Set</td>\n",
       "      <td>1.0</td>\n",
       "    </tr>\n",
       "    <tr>\n",
       "      <th>17</th>\n",
       "      <td>Linear Combination</td>\n",
       "      <td>Linearly Independent/Sequence</td>\n",
       "      <td>1.0</td>\n",
       "    </tr>\n",
       "    <tr>\n",
       "      <th>18</th>\n",
       "      <td>Linear Combination</td>\n",
       "      <td>Linearly Independent Set</td>\n",
       "      <td>6.0</td>\n",
       "    </tr>\n",
       "    <tr>\n",
       "      <th>19</th>\n",
       "      <td>Linear Combination</td>\n",
       "      <td>Linearly Independent Sequence</td>\n",
       "      <td>10.0</td>\n",
       "    </tr>\n",
       "    <tr>\n",
       "      <th>20</th>\n",
       "      <td>Linear Combination</td>\n",
       "      <td>Linearly Independent</td>\n",
       "      <td>2.0</td>\n",
       "    </tr>\n",
       "    <tr>\n",
       "      <th>21</th>\n",
       "      <td>Linear Combination</td>\n",
       "      <td>Linearly Dependent/Set</td>\n",
       "      <td>2.0</td>\n",
       "    </tr>\n",
       "    <tr>\n",
       "      <th>22</th>\n",
       "      <td>Linear Combination</td>\n",
       "      <td>Linearly Dependent/Sequence</td>\n",
       "      <td>2.0</td>\n",
       "    </tr>\n",
       "    <tr>\n",
       "      <th>23</th>\n",
       "      <td>Linear Combination</td>\n",
       "      <td>Linearly Dependent Set</td>\n",
       "      <td>2.0</td>\n",
       "    </tr>\n",
       "    <tr>\n",
       "      <th>24</th>\n",
       "      <td>Linear Combination</td>\n",
       "      <td>Linearly Dependent Sequence</td>\n",
       "      <td>8.0</td>\n",
       "    </tr>\n",
       "    <tr>\n",
       "      <th>25</th>\n",
       "      <td>Linear Combination</td>\n",
       "      <td>Linearly Dependent</td>\n",
       "      <td>1.0</td>\n",
       "    </tr>\n",
       "    <tr>\n",
       "      <th>26</th>\n",
       "      <td>Linear Combination</td>\n",
       "      <td>Zero Vector</td>\n",
       "      <td>10.0</td>\n",
       "    </tr>\n",
       "    <tr>\n",
       "      <th>27</th>\n",
       "      <td>Linear Combination</td>\n",
       "      <td>Zero Scalar</td>\n",
       "      <td>3.0</td>\n",
       "    </tr>\n",
       "    <tr>\n",
       "      <th>28</th>\n",
       "      <td>Linear Combination</td>\n",
       "      <td>Unitary Module</td>\n",
       "      <td>9.0</td>\n",
       "    </tr>\n",
       "    <tr>\n",
       "      <th>29</th>\n",
       "      <td>Linear Combination</td>\n",
       "      <td>Vector Space</td>\n",
       "      <td>3.0</td>\n",
       "    </tr>\n",
       "    <tr>\n",
       "      <th>30</th>\n",
       "      <td>Linear Combination</td>\n",
       "      <td>Linear Transformation</td>\n",
       "      <td>7.0</td>\n",
       "    </tr>\n",
       "    <tr>\n",
       "      <th>31</th>\n",
       "      <td>Linear Combination</td>\n",
       "      <td>Vector Subspace</td>\n",
       "      <td>1.0</td>\n",
       "    </tr>\n",
       "    <tr>\n",
       "      <th>32</th>\n",
       "      <td>Linear Combination</td>\n",
       "      <td>Vector (Linear Algebra)</td>\n",
       "      <td>3.0</td>\n",
       "    </tr>\n",
       "  </tbody>\n",
       "</table>\n",
       "</div>"
      ],
      "text/plain": [
       "                Node 1                                           Node 2  \\\n",
       "0   Linear Combination                         Vector (Euclidean Space)   \n",
       "1   Linear Combination                Set of All Linear Transformations   \n",
       "2   Linear Combination                                    Ordered Basis   \n",
       "3   Linear Combination  Linearly Independent/Sequence/Real Vector Space   \n",
       "4   Linear Combination    Linearly Dependent/Sequence/Real Vector Space   \n",
       "5   Linear Combination                                      Linear Span   \n",
       "6   Linear Combination                     Linear Combination of Subset   \n",
       "7   Linear Combination                   Linear Combination of Sequence   \n",
       "8   Linear Combination                  Linear Combination of Empty Set   \n",
       "9   Linear Combination                               Linear Combination   \n",
       "10  Linear Combination                                           Matrix   \n",
       "11  Linear Combination                           Basis (Linear Algebra)   \n",
       "12  Linear Combination                    Matrix Product (Conventional)   \n",
       "13  Linear Combination                                           Module   \n",
       "14  Linear Combination       Linearly Independent/Set/Real Vector Space   \n",
       "15  Linear Combination         Linearly Dependent/Set/Real Vector Space   \n",
       "16  Linear Combination                         Linearly Independent/Set   \n",
       "17  Linear Combination                    Linearly Independent/Sequence   \n",
       "18  Linear Combination                         Linearly Independent Set   \n",
       "19  Linear Combination                    Linearly Independent Sequence   \n",
       "20  Linear Combination                             Linearly Independent   \n",
       "21  Linear Combination                           Linearly Dependent/Set   \n",
       "22  Linear Combination                      Linearly Dependent/Sequence   \n",
       "23  Linear Combination                           Linearly Dependent Set   \n",
       "24  Linear Combination                      Linearly Dependent Sequence   \n",
       "25  Linear Combination                               Linearly Dependent   \n",
       "26  Linear Combination                                      Zero Vector   \n",
       "27  Linear Combination                                      Zero Scalar   \n",
       "28  Linear Combination                                   Unitary Module   \n",
       "29  Linear Combination                                     Vector Space   \n",
       "30  Linear Combination                            Linear Transformation   \n",
       "31  Linear Combination                                  Vector Subspace   \n",
       "32  Linear Combination                          Vector (Linear Algebra)   \n",
       "\n",
       "    Weight  \n",
       "0     10.0  \n",
       "1      1.0  \n",
       "2      3.0  \n",
       "3      4.0  \n",
       "4      6.0  \n",
       "5      6.0  \n",
       "6     10.0  \n",
       "7      8.0  \n",
       "8      6.0  \n",
       "9     26.0  \n",
       "10     1.0  \n",
       "11     2.0  \n",
       "12     1.0  \n",
       "13     8.0  \n",
       "14     1.0  \n",
       "15     2.0  \n",
       "16     1.0  \n",
       "17     1.0  \n",
       "18     6.0  \n",
       "19    10.0  \n",
       "20     2.0  \n",
       "21     2.0  \n",
       "22     2.0  \n",
       "23     2.0  \n",
       "24     8.0  \n",
       "25     1.0  \n",
       "26    10.0  \n",
       "27     3.0  \n",
       "28     9.0  \n",
       "29     3.0  \n",
       "30     7.0  \n",
       "31     1.0  \n",
       "32     3.0  "
      ]
     },
     "metadata": {},
     "output_type": "display_data"
    }
   ],
   "source": [
    "df = pd.DataFrame()\n",
    "\n",
    "for i in G_c.neighbors('Linear Combination'):\n",
    "    df = df.append(pd.DataFrame({'Node 1' : ['Linear Combination'],\n",
    "                                 'Node 2': [i],\n",
    "                                 'Weight' : [G_c['Linear Combination'][i]['weight']]}),\n",
    "                   ignore_index=True)\n",
    "df_c = df\n",
    "display(df_c)"
   ]
  },
  {
   "cell_type": "markdown",
   "metadata": {},
   "source": [
    "The following provides a table of edges between the in-neighbors of the 'Linear Combination' node for the directed network.."
   ]
  },
  {
   "cell_type": "code",
   "execution_count": 172,
   "metadata": {},
   "outputs": [
    {
     "data": {
      "text/html": [
       "<div>\n",
       "<style scoped>\n",
       "    .dataframe tbody tr th:only-of-type {\n",
       "        vertical-align: middle;\n",
       "    }\n",
       "\n",
       "    .dataframe tbody tr th {\n",
       "        vertical-align: top;\n",
       "    }\n",
       "\n",
       "    .dataframe thead th {\n",
       "        text-align: right;\n",
       "    }\n",
       "</style>\n",
       "<table border=\"1\" class=\"dataframe\">\n",
       "  <thead>\n",
       "    <tr style=\"text-align: right;\">\n",
       "      <th></th>\n",
       "      <th>Node 2</th>\n",
       "      <th>Node 1</th>\n",
       "      <th>Weight</th>\n",
       "    </tr>\n",
       "  </thead>\n",
       "  <tbody>\n",
       "    <tr>\n",
       "      <th>0</th>\n",
       "      <td>Linear Combination</td>\n",
       "      <td>Spanning Set</td>\n",
       "      <td>1.0</td>\n",
       "    </tr>\n",
       "    <tr>\n",
       "      <th>0</th>\n",
       "      <td>Linear Combination</td>\n",
       "      <td>Linearly Dependent/Sequence/Real Vector Space</td>\n",
       "      <td>1.0</td>\n",
       "    </tr>\n",
       "    <tr>\n",
       "      <th>0</th>\n",
       "      <td>Linear Combination</td>\n",
       "      <td>Linear Span</td>\n",
       "      <td>1.0</td>\n",
       "    </tr>\n",
       "    <tr>\n",
       "      <th>0</th>\n",
       "      <td>Linear Combination</td>\n",
       "      <td>Linear Combination/Subset</td>\n",
       "      <td>1.0</td>\n",
       "    </tr>\n",
       "    <tr>\n",
       "      <th>0</th>\n",
       "      <td>Linear Combination</td>\n",
       "      <td>Linear Combination/Sequence</td>\n",
       "      <td>1.0</td>\n",
       "    </tr>\n",
       "    <tr>\n",
       "      <th>0</th>\n",
       "      <td>Linear Combination</td>\n",
       "      <td>Linear Combination/Empty Set</td>\n",
       "      <td>1.0</td>\n",
       "    </tr>\n",
       "    <tr>\n",
       "      <th>0</th>\n",
       "      <td>Linear Combination</td>\n",
       "      <td>Linear Combination of Subset</td>\n",
       "      <td>1.0</td>\n",
       "    </tr>\n",
       "    <tr>\n",
       "      <th>0</th>\n",
       "      <td>Linear Combination</td>\n",
       "      <td>Linear Combination of Sequence</td>\n",
       "      <td>1.0</td>\n",
       "    </tr>\n",
       "    <tr>\n",
       "      <th>0</th>\n",
       "      <td>Linear Combination</td>\n",
       "      <td>Linear Combination of Empty Set</td>\n",
       "      <td>1.0</td>\n",
       "    </tr>\n",
       "    <tr>\n",
       "      <th>0</th>\n",
       "      <td>Linear Combination</td>\n",
       "      <td>Generator/Module/Spanning Set</td>\n",
       "      <td>1.0</td>\n",
       "    </tr>\n",
       "    <tr>\n",
       "      <th>0</th>\n",
       "      <td>Linear Combination</td>\n",
       "      <td>Relative Matrix</td>\n",
       "      <td>1.0</td>\n",
       "    </tr>\n",
       "    <tr>\n",
       "      <th>0</th>\n",
       "      <td>Linear Combination</td>\n",
       "      <td>Linearly Independent/Sequence</td>\n",
       "      <td>1.0</td>\n",
       "    </tr>\n",
       "    <tr>\n",
       "      <th>0</th>\n",
       "      <td>Linear Combination</td>\n",
       "      <td>Linearly Independent Sequence</td>\n",
       "      <td>1.0</td>\n",
       "    </tr>\n",
       "    <tr>\n",
       "      <th>0</th>\n",
       "      <td>Linear Combination</td>\n",
       "      <td>Linearly Independent</td>\n",
       "      <td>1.0</td>\n",
       "    </tr>\n",
       "    <tr>\n",
       "      <th>0</th>\n",
       "      <td>Linear Combination</td>\n",
       "      <td>Linearly Dependent/Sequence</td>\n",
       "      <td>2.0</td>\n",
       "    </tr>\n",
       "    <tr>\n",
       "      <th>0</th>\n",
       "      <td>Linear Combination</td>\n",
       "      <td>Linearly Dependent Sequence</td>\n",
       "      <td>2.0</td>\n",
       "    </tr>\n",
       "    <tr>\n",
       "      <th>0</th>\n",
       "      <td>Linear Combination</td>\n",
       "      <td>Linearly Dependent</td>\n",
       "      <td>2.0</td>\n",
       "    </tr>\n",
       "  </tbody>\n",
       "</table>\n",
       "</div>"
      ],
      "text/plain": [
       "               Node 2                                         Node 1  Weight\n",
       "0  Linear Combination                                   Spanning Set     1.0\n",
       "0  Linear Combination  Linearly Dependent/Sequence/Real Vector Space     1.0\n",
       "0  Linear Combination                                    Linear Span     1.0\n",
       "0  Linear Combination                      Linear Combination/Subset     1.0\n",
       "0  Linear Combination                    Linear Combination/Sequence     1.0\n",
       "0  Linear Combination                   Linear Combination/Empty Set     1.0\n",
       "0  Linear Combination                   Linear Combination of Subset     1.0\n",
       "0  Linear Combination                 Linear Combination of Sequence     1.0\n",
       "0  Linear Combination                Linear Combination of Empty Set     1.0\n",
       "0  Linear Combination                  Generator/Module/Spanning Set     1.0\n",
       "0  Linear Combination                                Relative Matrix     1.0\n",
       "0  Linear Combination                  Linearly Independent/Sequence     1.0\n",
       "0  Linear Combination                  Linearly Independent Sequence     1.0\n",
       "0  Linear Combination                           Linearly Independent     1.0\n",
       "0  Linear Combination                    Linearly Dependent/Sequence     2.0\n",
       "0  Linear Combination                    Linearly Dependent Sequence     2.0\n",
       "0  Linear Combination                             Linearly Dependent     2.0"
      ]
     },
     "metadata": {},
     "output_type": "display_data"
    }
   ],
   "source": [
    "df = pd.DataFrame()\n",
    "\n",
    "for i in G.predecessors('Linear Combination'):\n",
    "    df = df.append(pd.DataFrame({'Node 2' : ['Linear Combination'],\n",
    "                                 'Node 1': [i],\n",
    "                                 'Weight' : [G[i]['Linear Combination']['weight']]}))\n",
    "df_d = df\n",
    "display(df_d)"
   ]
  },
  {
   "cell_type": "markdown",
   "metadata": {},
   "source": [
    "##### Bibliographic Coupling"
   ]
  },
  {
   "cell_type": "code",
   "execution_count": 194,
   "metadata": {},
   "outputs": [],
   "source": [
    "def bibCoupling(G): # Attempt 2 w/ graphical method\n",
    "    G_b = nx.Graph()\n",
    "    G_b.add_nodes_from(G)\n",
    "    for i_node in G.nodes():\n",
    "        for j_node in G.nodes():\n",
    "            ij_nodes = set(G.successors(i_node)) & set(G.successors(j_node))\n",
    "            g_ij = 0\n",
    "            for ij_node in ij_nodes:\n",
    "                g_ij += G[i_node][ij_node]['weight'] * G[j_node][ij_node]['weight']\n",
    "            if g_ij > 0:\n",
    "                G_b.add_weighted_edges_from([(i_node,j_node,g_ij)])\n",
    "    return G_b"
   ]
  },
  {
   "cell_type": "code",
   "execution_count": 195,
   "metadata": {},
   "outputs": [],
   "source": [
    "G_b = bibCoupling(G)"
   ]
  },
  {
   "cell_type": "code",
   "execution_count": null,
   "metadata": {},
   "outputs": [],
   "source": []
  },
  {
   "cell_type": "code",
   "execution_count": 196,
   "metadata": {},
   "outputs": [
    {
     "name": "stdout",
     "output_type": "stream",
     "text": [
      "[[1. 1. 1. ... 1. 1. 0.]\n",
      " [1. 1. 1. ... 1. 1. 0.]\n",
      " [1. 1. 5. ... 1. 2. 0.]\n",
      " ...\n",
      " [1. 1. 1. ... 1. 1. 0.]\n",
      " [1. 1. 2. ... 1. 4. 0.]\n",
      " [0. 0. 0. ... 0. 0. 1.]]\n"
     ]
    }
   ],
   "source": [
    "B1 = nx.adjacency_matrix(G_b).todense().T\n",
    "print(B1)"
   ]
  },
  {
   "cell_type": "code",
   "execution_count": 197,
   "metadata": {},
   "outputs": [
    {
     "name": "stdout",
     "output_type": "stream",
     "text": [
      "[[1. 1. 1. ... 1. 1. 0.]\n",
      " [1. 1. 1. ... 1. 1. 0.]\n",
      " [1. 1. 5. ... 1. 2. 0.]\n",
      " ...\n",
      " [1. 1. 1. ... 1. 1. 0.]\n",
      " [1. 1. 2. ... 1. 4. 0.]\n",
      " [0. 0. 0. ... 0. 0. 1.]]\n"
     ]
    }
   ],
   "source": [
    "A = nx.adjacency_matrix(G).todense().T\n",
    "B2 = np.dot(A.T,A)\n",
    "print(B2)"
   ]
  },
  {
   "cell_type": "code",
   "execution_count": 198,
   "metadata": {},
   "outputs": [
    {
     "data": {
      "text/plain": [
       "matrix([[0., 0., 0., ..., 0., 0., 0.],\n",
       "        [0., 0., 0., ..., 0., 0., 0.],\n",
       "        [0., 0., 0., ..., 0., 0., 0.],\n",
       "        ...,\n",
       "        [0., 0., 0., ..., 0., 0., 0.],\n",
       "        [0., 0., 0., ..., 0., 0., 0.],\n",
       "        [0., 0., 0., ..., 0., 0., 0.]])"
      ]
     },
     "metadata": {},
     "output_type": "display_data"
    }
   ],
   "source": [
    "B_diff = B1 - B2\n",
    "display(B_diff)"
   ]
  },
  {
   "cell_type": "code",
   "execution_count": 199,
   "metadata": {},
   "outputs": [
    {
     "name": "stdout",
     "output_type": "stream",
     "text": [
      "Difference between methods: 0.0\n"
     ]
    }
   ],
   "source": [
    "print('Difference between methods: ' + str(B_diff.sum().sum()))"
   ]
  },
  {
   "cell_type": "markdown",
   "metadata": {},
   "source": [
    "### Section 6.4.2 - Acyclic Networks"
   ]
  },
  {
   "cell_type": "markdown",
   "metadata": {},
   "source": [
    "#### Acyclic function"
   ]
  },
  {
   "cell_type": "code",
   "execution_count": 245,
   "metadata": {},
   "outputs": [],
   "source": [
    "def cyclic(G):\n",
    "    cyclic = False\n",
    "    while not cyclic:\n",
    "        if G.number_of_nodes() == 0:\n",
    "            cyclic = False\n",
    "            break\n",
    "        else:\n",
    "            cyclic = True\n",
    "            \n",
    "        for node in G.nodes():\n",
    "            if G.out_degree(node) == 0:\n",
    "                cyclic = False\n",
    "                G.remove_node(node)\n",
    "                print('true')\n",
    "                break\n",
    "        else:\n",
    "            print('false')\n",
    "    return cyclic"
   ]
  },
  {
   "cell_type": "code",
   "execution_count": 246,
   "metadata": {},
   "outputs": [
    {
     "name": "stdout",
     "output_type": "stream",
     "text": [
      "false\n"
     ]
    },
    {
     "data": {
      "text/plain": [
       "True"
      ]
     },
     "execution_count": 246,
     "metadata": {},
     "output_type": "execute_result"
    }
   ],
   "source": [
    "cyclic(G)"
   ]
  },
  {
   "cell_type": "code",
   "execution_count": null,
   "metadata": {},
   "outputs": [],
   "source": []
  }
 ],
 "metadata": {
  "kernelspec": {
   "display_name": "Python 3",
   "language": "python",
   "name": "python3"
  },
  "language_info": {
   "codemirror_mode": {
    "name": "ipython",
    "version": 3
   },
   "file_extension": ".py",
   "mimetype": "text/x-python",
   "name": "python",
   "nbconvert_exporter": "python",
   "pygments_lexer": "ipython3",
   "version": "3.7.3"
  }
 },
 "nbformat": 4,
 "nbformat_minor": 4
}
