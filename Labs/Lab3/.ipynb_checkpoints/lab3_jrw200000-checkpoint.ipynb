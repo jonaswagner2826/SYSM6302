{
 "cells": [
  {
   "cell_type": "markdown",
   "metadata": {},
   "source": [
    "# SYSM 6302 - Lab 3\n",
    "Jonas Wagner, jrw200000"
   ]
  },
  {
   "cell_type": "code",
   "execution_count": 41,
   "metadata": {},
   "outputs": [],
   "source": [
    "import networkx as nx\n",
    "import numpy as np\n",
    "import numpy.linalg as la\n",
    "import matplotlib.pyplot as plt"
   ]
  },
  {
   "cell_type": "markdown",
   "metadata": {},
   "source": [
    "### Snub Code"
   ]
  },
  {
   "cell_type": "markdown",
   "metadata": {},
   "source": [
    "This function prints the top five (or `num`) nodes according to the centrality vector `v`, where `v` takes the form: `v[nidx]` is the centrality of the node that is the `nidx`-th element of `G.nodes()`"
   ]
  },
  {
   "cell_type": "code",
   "execution_count": 42,
   "metadata": {},
   "outputs": [],
   "source": [
    "def print_top_5(G,v, num=5):\n",
    "    thenodes = list(G.nodes())\n",
    "    idx_list = [(i,v[i]) for i in range(len(v))]\n",
    "    idx_list = sorted(idx_list, key = lambda x: x[1], reverse=True)\n",
    "    for i in range(min(num,len(idx_list))):\n",
    "        nidx, score = idx_list[i]\n",
    "        print('  %i. %s (%1.4f)' % (i+1,thenodes[nidx],score))\n",
    "        #print '  %i. %s' % (i+1,G.node_object(idx))"
   ]
  },
  {
   "cell_type": "markdown",
   "metadata": {},
   "source": [
    "This function returns the index of the maximum of the array. If two or more indices have the same max value, the first index is returned."
   ]
  },
  {
   "cell_type": "code",
   "execution_count": 43,
   "metadata": {},
   "outputs": [],
   "source": [
    "def index_of_max(v):\n",
    "    return np.where(v == max(v))[0]"
   ]
  },
  {
   "cell_type": "markdown",
   "metadata": {},
   "source": [
    "This function accepts a dictionary of nodes with centrality values and returns a centrality vector"
   ]
  },
  {
   "cell_type": "code",
   "execution_count": 44,
   "metadata": {},
   "outputs": [],
   "source": [
    "def centrality_vector(G,d):\n",
    "    thenodes = list(G.nodes())\n",
    "    v = np.zeros((G.number_of_nodes(),))\n",
    "    for i,u in enumerate(thenodes):\n",
    "        v[i] = d[u]\n",
    "    return v"
   ]
  },
  {
   "cell_type": "markdown",
   "metadata": {},
   "source": [
    "This function provides the index of a node based on its order in `G.nodes()`"
   ]
  },
  {
   "cell_type": "code",
   "execution_count": 45,
   "metadata": {},
   "outputs": [],
   "source": [
    "def node_index(G,n):\n",
    "    thenodes = list(G.nodes())\n",
    "    return thenodes.index(n)"
   ]
  },
  {
   "cell_type": "markdown",
   "metadata": {},
   "source": [
    "Now we read in the edgelist file that contains the coappearance network we will analyze. We will look at two different networks, corresponding to only the *Lord of the Rings* series and the *Lord of the Rings* series plus the prequel, The *Hobbit*. The `unweighted` boolean, if set to `True` will set all the edge weights to one. Recall that setting all weights to 1 is different (in NetworkX) from having no weights assigned, which could be accomplished instead by: `G = nx.read_edgelist('LoTR_characters.edgelist',data=False)`."
   ]
  },
  {
   "cell_type": "code",
   "execution_count": 46,
   "metadata": {},
   "outputs": [],
   "source": [
    "unweighted = True\n",
    "G = nx.read_weighted_edgelist('LotR_characters.edgelist') # just Lord of the Rings\n",
    "#G = nx.read_weighted_edgelist('hobbit_LotR_characters.edgelist') # with the Hobbit\n",
    "if unweighted:\n",
    "    for u,v in G.edges():\n",
    "        G[u][v]['weight'] = 1\n",
    "A = nx.adjacency_matrix(G).todense().T\n",
    "N = G.number_of_nodes()"
   ]
  },
  {
   "cell_type": "markdown",
   "metadata": {},
   "source": [
    "## Section 7.1: Degree Centrality"
   ]
  },
  {
   "cell_type": "code",
   "execution_count": 47,
   "metadata": {
    "tags": []
   },
   "outputs": [
    {
     "name": "stdout",
     "output_type": "stream",
     "text": [
      "v =  [ 78. 140.  88.  80.  47. 124. 144.  65. 102.  63. 125.  90.  71.  71.\n",
      "  58.  38.  81.  27.  99. 153.  69.  67.  77. 111.  27. 108.  94.  58.\n",
      "  40.  44.  86.  48.  40.  40.  40.  40.  40.  40.  74. 113.  40.  40.\n",
      "  91. 137. 110. 104.  40.  53.  50.  51. 105.  66.  40.  31.  64.  45.\n",
      "  11.  26.  24.  24.  26.  17.  39.  14.  32.  55.  16.  16.  84.   7.\n",
      "   7.   7.  17.  17.  57.  17.  76.  19.  64.   9.   7.  23.  21.  64.\n",
      "  79.  52.  68.  61.  21.  24.  62.  24.  24.  24.  24.  24.  62.  54.\n",
      "  58.  58.  96.  49.  92.  53.  43.  43.  47.  43.  49.  49.  49.  45.\n",
      "  20.  31.  11.  25.  13.  16.  16.  21.  18.  11.  23.  18.  28.  24.\n",
      "  22.  22.  13.  38.  20.  18.  24.  12.  24.  20.  20.   6.  23.  11.\n",
      "  18.  18.  28.  22.  22.  28.  37.  22.  22.  20.  30.  31.  22.   8.\n",
      "  26.   8.  21.  21.  21.  17.  12.  15.  15.]\n",
      "\n",
      "\n",
      "Top 5 Nodes (Degree Centrality)\n",
      "  1. gandalf (153.0000)\n",
      "  2. frodo (144.0000)\n",
      "  3. aragorn (140.0000)\n",
      "  4. pippin (137.0000)\n",
      "  5. elrond (125.0000)\n"
     ]
    }
   ],
   "source": [
    "# Degree Centrality Calculation\n",
    "v = np.zeros(G.number_of_nodes())\n",
    "for i,node in enumerate(G.nodes()):\n",
    "    for edge in list(G[node]):\n",
    "        v[i] += G[node][edge]['weight']\n",
    "print('v = ',v)\n",
    "print('\\n')\n",
    "print('Top 5 Nodes (Degree Centrality)')\n",
    "print_top_5(G,v)"
   ]
  },
  {
   "cell_type": "markdown",
   "metadata": {},
   "source": [
    "## Section 7.2: Eigenvector Centrality"
   ]
  },
  {
   "cell_type": "code",
   "execution_count": 48,
   "metadata": {},
   "outputs": [
    {
     "name": "stdout",
     "output_type": "stream",
     "text": [
      "Eigenvector Centrality (by NetworkX):\n",
      "  1. gandalf (0.1682)\n",
      "  2. aragorn (0.1641)\n",
      "  3. frodo (0.1618)\n",
      "  4. elrond (0.1541)\n",
      "  5. pippin (0.1533)\n"
     ]
    }
   ],
   "source": [
    "print('Eigenvector Centrality (by NetworkX):')\n",
    "v_nx = centrality_vector(G,nx.eigenvector_centrality(G))\n",
    "print_top_5(G,v_nx)"
   ]
  },
  {
   "cell_type": "code",
   "execution_count": 49,
   "metadata": {},
   "outputs": [
    {
     "name": "stdout",
     "output_type": "stream",
     "text": [
      "Eigenvector Centrality (by linear algebra):\n",
      "  1. gandalf (0.1682)\n",
      "  2. aragorn (0.1641)\n",
      "  3. frodo (0.1618)\n",
      "  4. elrond (0.1541)\n",
      "  5. pippin (0.1533)\n"
     ]
    }
   ],
   "source": [
    "print('Eigenvector Centrality (by linear algebra):')\n",
    "k, V = la.eig(A)\n",
    "k1_idx = index_of_max(k) # find the index of the largest eigenvalue\n",
    "v = np.abs(V[:,k1_idx])\n",
    "print_top_5(G,v)"
   ]
  },
  {
   "cell_type": "markdown",
   "metadata": {},
   "source": [
    "#### Calc Confirmation"
   ]
  },
  {
   "cell_type": "code",
   "execution_count": 50,
   "metadata": {},
   "outputs": [
    {
     "name": "stdout",
     "output_type": "stream",
     "text": [
      "Confirming that eigenvector centrality is a steady-state of sorts for node arwen:\n",
      "Eig 0.112654\n",
      "Sum 0.112654\n"
     ]
    }
   ],
   "source": [
    "noi = 'arwen'\n",
    "noi_idx = node_index(G,noi)\n",
    "\n",
    "# print('\\n Neighbors:')\n",
    "cent_sum = 0\n",
    "for node in G.neighbors(noi):\n",
    "    idx = node_index(G,node)\n",
    "#     print(node, '%f' % v[idx])\n",
    "    cent_sum += v[idx] / np.real(k[k1_idx])\n",
    "\n",
    "print('Confirming that eigenvector centrality is a steady-state of sorts for node %s:' % noi)\n",
    "print('Eig %f' % v[noi_idx])\n",
    "print('Sum %f' % cent_sum)\n",
    "# compare the eigenvector centrality of arwen to the sum of the centralities of its neighbors (divided by the largest eigenvalue)"
   ]
  },
  {
   "cell_type": "markdown",
   "metadata": {},
   "source": [
    "#### Convergence of Eigenvector Centrality"
   ]
  },
  {
   "cell_type": "code",
   "execution_count": 54,
   "metadata": {},
   "outputs": [
    {
     "name": "stdout",
     "output_type": "stream",
     "text": [
      "Showing the convergece of eigenvector centrality...\n"
     ]
    },
    {
     "data": {
      "image/png": "[encoded data removed]",
      "text/plain": [
       "<Figure size 432x288 with 1 Axes>"
      ]
     },
     "metadata": {},
     "output_type": "display_data"
    }
   ],
   "source": [
    "print('Showing the convergece of eigenvector centrality...')\n",
    "num_steps = 10\n",
    "x = np.zeros((N,1)) # initial centrality vector\n",
    "x[76] = 1\n",
    "cs = np.zeros((N,num_steps))\n",
    "v = V\n",
    "for i in range(num_steps):\n",
    "    x = x/la.norm(x) # at each step we need to normalize the centrality vector\n",
    "    for j in range(G.number_of_nodes()):\n",
    "        cs[j,i] = np.real(np.dot( x.T , v[:,j] ))[0] # project x onto each of the eigenvectors\n",
    "    x = np.dot(A,x) # \"pass\" the centrality one step forward\n",
    "\n",
    "plt.figure() # this creates a figure to plot in\n",
    "for i in range(G.number_of_nodes()): # for each eigenvector plot the projection of x onto it over the steps\n",
    "    if i == k1_idx:\n",
    "        plt.plot(range(num_steps),cs[i,:],label='Projection onto v1') # only label the eigenvector v1\n",
    "    else:\n",
    "        plt.plot(range(num_steps),cs[i,:])\n",
    "#plt.ylim([-0.2,1.1]) # this sets the limits for the y axis\n",
    "plt.legend(loc='best') # this attaches a legend\n",
    "plt.title('Projection of the centrality vector x onto the eigenvectors of A') # this adds a title\n",
    "plt.show() # this makes the figure appear"
   ]
  },
  {
   "cell_type": "markdown",
   "metadata": {},
   "source": [
    "In this plot the dot product between the propogated state x (guessed centrality) and the calculated (and correctly known) eigenvalue centrality. As each iteration pases the guessed centrality aligns with v1 (aproches abs(x) * abs(v1)) and becomes orthogonal with all other potential eigenvectors (aproches zero).\n",
    "\n",
    "The iterative process itself is propogating the guessed centrality through the network (with A) and ultimently is approaching the steady-state centrality vector."
   ]
  },
  {
   "cell_type": "markdown",
   "metadata": {},
   "source": [
    "## Section 7.3: Katz Centrality"
   ]
  },
  {
   "cell_type": "code",
   "execution_count": 107,
   "metadata": {},
   "outputs": [],
   "source": [
    "def katz(A, alpha = 0.75, beta = 1):\n",
    "    # Asumming beta are scalers (same for all nodes... at least for defualt)\n",
    "    return np.array(np.linalg.inv(np.eye(np.size(A,1)) - np.dot(alpha,A)).dot(beta * np.ones(np.size(A,1)))).flatten()\n",
    "    "
   ]
  },
  {
   "cell_type": "code",
   "execution_count": 108,
   "metadata": {},
   "outputs": [
    {
     "name": "stdout",
     "output_type": "stream",
     "text": [
      "Katz Centrality (alpha = 0.100000):\n",
      "  1. galadriel (7.6922)\n",
      "  2. gimli (6.9943)\n",
      "  3. arathorn (6.1161)\n",
      "  4. legolas (5.6198)\n",
      "  5. halbarad (5.2346)\n",
      "\n",
      "\n",
      "Katz Centrality (alpha = 0.250000):\n",
      "  1. elrond (1.5697)\n",
      "  2. baran (1.5573)\n",
      "  3. arvedui (1.5233)\n",
      "  4. ghan (1.4455)\n",
      "  5. orome (1.4455)\n",
      "\n",
      "\n",
      "Katz Centrality (alpha = 0.500000):\n",
      "  1. hammerhand (2.1474)\n",
      "  2. angbor (2.1384)\n",
      "  3. aragorn (1.7482)\n",
      "  4. theoden (1.5687)\n",
      "  5. celebrian (1.4570)\n",
      "\n",
      "\n",
      "Katz Centrality (alpha = 0.750000):\n",
      "  1. anarion (3.5868)\n",
      "  2. varda (2.2215)\n",
      "  3. celebrian (2.2215)\n",
      "  4. galadriel (2.1949)\n",
      "  5. finrod (1.9623)\n",
      "\n",
      "\n",
      "Katz Centrality (alpha = 0.900000):\n",
      "  1. goldberry (3.1825)\n",
      "  2. rumil (2.8824)\n",
      "  3. angbor (2.4674)\n",
      "  4. eothain (2.3982)\n",
      "  5. dunhere (2.0902)\n",
      "\n",
      "\n"
     ]
    }
   ],
   "source": [
    "Alpha = [0.1,0.25,0.5,0.75,0.9]\n",
    "for alpha in Alpha:\n",
    "    v_katz = katz(A,alpha)\n",
    "    print('Katz Centrality (alpha = %f):' % alpha)\n",
    "    print_top_5(G,v_katz)\n",
    "    print('\\n')\n"
   ]
  },
  {
   "cell_type": "markdown",
   "metadata": {},
   "source": [
    "************ Ask about these values...."
   ]
  },
  {
   "cell_type": "markdown",
   "metadata": {},
   "source": [
    "## PageRank"
   ]
  },
  {
   "cell_type": "code",
   "execution_count": 211,
   "metadata": {},
   "outputs": [],
   "source": [
    "def pageRank(A, alpha = 0.85, beta = 1):\n",
    "    # Asumming beta are scalers (same for all nodes... at least for defualt)\n",
    "    D = np.diag(np.array(np.sum(A,0)).flatten())\n",
    "    return np.array(np.dot(np.linalg.inv(np.eye(np.size(A,1)) \n",
    "                                         - np.dot(np.dot(alpha,A),\n",
    "                                                  np.linalg.inv(D))),\n",
    "                           beta * np.ones(np.size(A,1)))).flatten()\n",
    "    "
   ]
  },
  {
   "cell_type": "code",
   "execution_count": 212,
   "metadata": {},
   "outputs": [
    {
     "name": "stdout",
     "output_type": "stream",
     "text": [
      "Page Rank (alpha = 0.850000):\n",
      "  1. gandalf (22.1478)\n",
      "  2. frodo (20.9287)\n",
      "  3. pippin (19.7588)\n",
      "  4. aragorn (19.4926)\n",
      "  5. bilbo (17.7511)\n"
     ]
    }
   ],
   "source": [
    "alpha = 0.85\n",
    "v_PR = pageRank(A,alpha)\n",
    "print('Page Rank (alpha = %f):' % alpha)\n",
    "print_top_5(G,v_PR)"
   ]
  },
  {
   "cell_type": "code",
   "execution_count": null,
   "metadata": {},
   "outputs": [],
   "source": []
  },
  {
   "cell_type": "markdown",
   "metadata": {},
   "source": [
    "#### PageRank proof\n",
    "\n",
    "Let $A$ be the adjacency matrix of a directed network, \n",
    "\n",
    "Let $$v_1 = [k_1,k_2,...,k_n]^T, \\ \\ k_i = k_i^{in}$$\n",
    "\n"
   ]
  },
  {
   "cell_type": "code",
   "execution_count": null,
   "metadata": {},
   "outputs": [],
   "source": []
  },
  {
   "cell_type": "markdown",
   "metadata": {},
   "source": [
    "## Betweenness Centrality"
   ]
  },
  {
   "cell_type": "code",
   "execution_count": 19,
   "metadata": {},
   "outputs": [
    {
     "name": "stdout",
     "output_type": "stream",
     "text": [
      "Betweenness Centrality\n"
     ]
    }
   ],
   "source": [
    "print('Betweenness Centrality')"
   ]
  }
 ],
 "metadata": {
  "kernelspec": {
   "display_name": "Python 3 (Spyder)",
   "language": "python3",
   "name": "python3"
  },
  "language_info": {
   "codemirror_mode": {
    "name": "ipython",
    "version": 3
   },
   "file_extension": ".py",
   "mimetype": "text/x-python",
   "name": "python",
   "nbconvert_exporter": "python",
   "pygments_lexer": "ipython3",
   "version": "3.8.5"
  }
 },
 "nbformat": 4,
 "nbformat_minor": 4
}
