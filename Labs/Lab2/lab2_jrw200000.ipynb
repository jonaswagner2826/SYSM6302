{
 "cells": [
  {
   "cell_type": "markdown",
   "metadata": {},
   "source": [
    "# SYSM 6302 - Lab 2\n",
    "Jonas Wagner, jrw200000\n",
    "\n"
   ]
  },
  {
   "source": [
    "### Section 6.9: Degree"
   ],
   "cell_type": "markdown",
   "metadata": {}
  },
  {
   "source": [
    "An example of networks where a node having a high degree is a good thing may be a social network in which edges represent freindships. In such a network, having a high degree indicates you have many friends."
   ],
   "cell_type": "markdown",
   "metadata": {}
  },
  {
   "source": [
    "An example of networks where a node having a high degree is a bad thing may be a highway system in which nodes are interchanges of highways. In such a network, having a high degree indicates a lot of highways being connected through that interchange (in other words, a lot of traffic)."
   ],
   "cell_type": "markdown",
   "metadata": {}
  },
  {
   "source": [
    "An example of a low degree node that may be important would be a single node that solely connects two highly connected (technically not) components. This node may have a low degree, but is vital for allowing paths between two subsets of a graph."
   ],
   "cell_type": "markdown",
   "metadata": {}
  },
  {
   "cell_type": "code",
   "execution_count": null,
   "metadata": {},
   "outputs": [],
   "source": []
  },
  {
   "source": [
    "### Snub Code"
   ],
   "cell_type": "markdown",
   "metadata": {}
  },
  {
   "cell_type": "code",
   "execution_count": 17,
   "metadata": {},
   "outputs": [],
   "source": [
    "import networkx as nx\n",
    "import sys\n",
    "sys.path.append('../d3networkx/')\n",
    "import d3networkx as d3nx\n",
    "from d3graph import D3Graph, D3DiGraph\n",
    "from numpy import *\n",
    "from time import time\n",
    "import asyncio\n",
    "\n",
    "def square_grid(n,d3,G,x0=100,y0=100,w=50):\n",
    "    if G is None:\n",
    "        G = D3Graph()\n",
    "    # find the dimensions for the grid that are as close as possible\n",
    "    num_rows = int(floor(sqrt(n)))\n",
    "    while n % num_rows != 0:\n",
    "        num_rows += 1\n",
    "    num_cols = int(n/num_rows)\n",
    "    \n",
    "    # Add all the nodes\n",
    "    G.add_nodes_from(range(n))\n",
    "        \n",
    "    # Add the edges and position the nodes\n",
    "    for i in range(num_rows):\n",
    "        for j in range(num_cols):\n",
    "            n = num_cols*i + j\n",
    "            d3.position_node(n,x0+i*w,y0+j*w)\n",
    "            if i < num_rows-1:\n",
    "                G.add_edge(n,n+num_cols) # add edge down\n",
    "            if j < num_cols-1:\n",
    "                G.add_edge(n,n+1) # add edge right\n",
    "\n",
    "async def propagate(G,d3,x,steps,slp=0.5,keep_highlights=False,update_at_end=False):\n",
    "    interactive = d3.interactive\n",
    "    d3.set_interactive(False)\n",
    "    A = nx.adjacency_matrix(G).todense().T  # adjacency matrix\n",
    "    d3.highlight_nodes_by_index(list(where(x>0)[0]))\n",
    "    d3.update()\n",
    "    await asyncio.sleep(slp)\n",
    "    cum_highlighted = sign(x)\n",
    "    for i in range(steps): # the brains\n",
    "        x = sign(dot(A,x)) # the brains\n",
    "        cum_highlighted = sign(cum_highlighted+x)\n",
    "        if not update_at_end:\n",
    "            if not keep_highlights:\n",
    "                d3.clear_highlights()\n",
    "            d3.highlight_nodes_by_index(list(where(x>0)[0]))\n",
    "            d3.update()\n",
    "            await asyncio.sleep(slp)\n",
    "    if update_at_end:\n",
    "        if not keep_highlights:\n",
    "            d3.clear_highlights()\n",
    "            d3.highlight_nodes_by_index(list(where(x>0)[0]))\n",
    "        else:\n",
    "            d3.highlight_nodes_by_index(list(where(cum_highlighted>0)[0]))\n",
    "        d3.update()\n",
    "    d3.set_interactive(interactive)\n",
    "    if keep_highlights:\n",
    "        return cum_highlighted\n",
    "    else:\n",
    "        return x "
   ]
  },
  {
   "cell_type": "markdown",
   "metadata": {},
   "source": [
    "This next line starts up the visualizer. It will start some background code that sends data to the visualizer and then it will open a new browser window where the visualizer will live. Once you have the visualizer running, you can leave it running for the entire session, so don't re-run this block. If you close the `visualizer.html` (or hit refresh), you will need to reestablish this connection. In this case, you should click the refresh button in the Jupyter notebook (not for the webpage) to restart the kernel (which will clear your variables and Python environment)."
   ]
  },
  {
   "cell_type": "code",
   "execution_count": 18,
   "metadata": {},
   "outputs": [
    {
     "output_type": "stream",
     "name": "stdout",
     "text": [
      "websocket server started...networkx connected...visualizer connected..."
     ]
    }
   ],
   "source": [
    "d3 = await d3nx.create_d3nx_visualizer()\n",
    "#d3 = await d3nx.create_d3nx_visualizer(canvas_size=(1200,1000))"
   ]
  },
  {
   "cell_type": "markdown",
   "metadata": {},
   "source": [
    "## Grid Network"
   ]
  },
  {
   "cell_type": "code",
   "execution_count": 3,
   "metadata": {},
   "outputs": [],
   "source": [
    "d3.clear()\n",
    "d3.set_interactive(False)\n",
    "G = D3Graph()\n",
    "d3.set_graph(G)\n",
    "square_grid(144,d3,G,x0=75,y0=70)\n",
    "d3.update()"
   ]
  },
  {
   "cell_type": "code",
   "execution_count": 4,
   "metadata": {},
   "outputs": [],
   "source": [
    "x = zeros((G.number_of_nodes(),1))\n",
    "x[0] = 1\n",
    "await propagate(G,d3,x,10,slp=1);"
   ]
  },
  {
   "cell_type": "markdown",
   "metadata": {},
   "source": [
    "## Directed Network"
   ]
  },
  {
   "cell_type": "code",
   "execution_count": 5,
   "metadata": {},
   "outputs": [],
   "source": [
    "d3.clear()\n",
    "G = D3DiGraph(nx.read_weighted_edgelist('lab2.edgelist',create_using=nx.DiGraph))\n",
    "d3.set_graph(G)\n",
    "d3.update()"
   ]
  },
  {
   "cell_type": "code",
   "execution_count": 6,
   "metadata": {},
   "outputs": [],
   "source": [
    "G.add_edge('test','3')\n",
    "# d3.set_graph(G)\n",
    "# d3.update()"
   ]
  },
  {
   "cell_type": "code",
   "execution_count": 7,
   "metadata": {},
   "outputs": [],
   "source": [
    "d3.set_interactive(True)"
   ]
  },
  {
   "cell_type": "code",
   "execution_count": 8,
   "metadata": {},
   "outputs": [],
   "source": [
    "G.remove_node('4')"
   ]
  },
  {
   "cell_type": "code",
   "execution_count": 9,
   "metadata": {},
   "outputs": [],
   "source": [
    "# code to propagate"
   ]
  },
  {
   "cell_type": "code",
   "execution_count": 10,
   "metadata": {},
   "outputs": [],
   "source": [
    "# code to find the out-component of node 1"
   ]
  },
  {
   "cell_type": "markdown",
   "metadata": {},
   "source": [
    "## E. coli Protein Network"
   ]
  },
  {
   "cell_type": "code",
   "execution_count": 11,
   "metadata": {},
   "outputs": [
    {
     "output_type": "stream",
     "name": "stdout",
     "text": [
      "Ecoli has 418 nodes.\n"
     ]
    }
   ],
   "source": [
    "d3.clear()\n",
    "G = D3DiGraph(nx.read_weighted_edgelist('ecoli.edgelist',create_using=nx.DiGraph))\n",
    "d3.set_interactive(False)\n",
    "d3.set_graph(G)\n",
    "d3.set_interactive(True)\n",
    "d3.update()\n",
    "print('Ecoli has %i nodes.' % G.number_of_nodes())"
   ]
  },
  {
   "cell_type": "code",
   "execution_count": 12,
   "metadata": {},
   "outputs": [],
   "source": [
    "# code to find the out-component of node 2"
   ]
  },
  {
   "cell_type": "code",
   "execution_count": 13,
   "metadata": {},
   "outputs": [],
   "source": [
    "# code to find the out-component of node 16"
   ]
  },
  {
   "cell_type": "code",
   "execution_count": 14,
   "metadata": {},
   "outputs": [],
   "source": [
    "#print(nx.diameter(G)) # does not work!\n",
    "\n",
    "def diameter2(G):\n",
    "    spaths = dict(nx.all_pairs_shortest_path(G))\n",
    "    # fill in!\n",
    "    return diameter, path\n",
    "\n",
    "# use the new diameter function here"
   ]
  },
  {
   "cell_type": "markdown",
   "metadata": {},
   "source": [
    "## Section 6.12: Flows & Cut Sets"
   ]
  },
  {
   "cell_type": "code",
   "execution_count": 15,
   "metadata": {},
   "outputs": [
    {
     "output_type": "stream",
     "name": "stdout",
     "text": [
      "min cut took 0.00 seconds\n"
     ]
    }
   ],
   "source": [
    "def worst_graph(n):\n",
    "    # to do\n",
    "    return G\n",
    "\n",
    "def best_graph(n):\n",
    "    # to do\n",
    "    return G    \n",
    "\n",
    "# create graph\n",
    "start_time = time()\n",
    "# perform min cut\n",
    "print('min cut took %1.2f seconds' % (time() - start_time))"
   ]
  },
  {
   "cell_type": "code",
   "execution_count": 16,
   "metadata": {},
   "outputs": [],
   "source": [
    "G = nx.read_gml('pert.gml','name')\n",
    "\n",
    "# find longest path"
   ]
  },
  {
   "cell_type": "code",
   "execution_count": null,
   "metadata": {},
   "outputs": [],
   "source": []
  }
 ],
 "metadata": {
  "kernelspec": {
   "display_name": "Python 3",
   "language": "python",
   "name": "python3"
  },
  "language_info": {
   "codemirror_mode": {
    "name": "ipython",
    "version": 3
   },
   "file_extension": ".py",
   "mimetype": "text/x-python",
   "name": "python",
   "nbconvert_exporter": "python",
   "pygments_lexer": "ipython3",
   "version": "3.8.5-final"
  }
 },
 "nbformat": 4,
 "nbformat_minor": 4
}