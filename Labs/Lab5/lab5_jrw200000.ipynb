{
 "cells": [
  {
   "cell_type": "markdown",
   "metadata": {},
   "source": [
    "# SYSM 6302 - Lab 5\n",
    "Jonas Wagner - jrw200000"
   ]
  },
  {
   "cell_type": "code",
   "execution_count": 1,
   "metadata": {},
   "outputs": [],
   "source": [
    "import networkx as nx\n",
    "import networkx.algorithms.community as nx_comm\n",
    "from numpy import zeros, dot, array\n",
    "import pickle\n",
    "import matplotlib.pyplot as plt\n",
    "import json\n",
    "import string\n",
    "import time\n",
    "import numpy as np"
   ]
  },
  {
   "cell_type": "markdown",
   "metadata": {},
   "source": [
    "#### Preq processing"
   ]
  },
  {
   "cell_type": "code",
   "execution_count": 2,
   "metadata": {},
   "outputs": [],
   "source": [
    "import os.path\n",
    "from os import path\n",
    "if not path.exists('raw_twitter.json'):\n",
    "    print('need to extract .json.zip file')    \n",
    "if not path.exists('small_raw_twitter.json'):\n",
    "    print('small version of raw_twitter does\\'nt exist')"
   ]
  },
  {
   "cell_type": "markdown",
   "metadata": {},
   "source": [
    "## Section 7.13: Modularity\n",
    "\n",
    "The first function below calculates modularity for *directed* networks and also returns the maximum modularity value $Q_{\\text{max}}$ (NetworkX's modularity function does not report the $Q_{\\text{max}}$ value). The second function calculates scalar assortativity (NetworkX's assortativity functions differ from our book definition). "
   ]
  },
  {
   "cell_type": "code",
   "execution_count": 3,
   "metadata": {},
   "outputs": [],
   "source": [
    "def modularity(G,c):\n",
    "    d = dict()\n",
    "    for k,v in enumerate(c):\n",
    "        for n in v:\n",
    "            d[n] = k\n",
    "    L = 0\n",
    "    for u,v,data in G.edges.data():\n",
    "        L += data['weight']\n",
    "    Q, Qmax = 0,1\n",
    "    for u in G.nodes():\n",
    "        for v in G.nodes():\n",
    "            if d[u] == d[v]:\n",
    "                Auv = 0\n",
    "                if G.has_edge(v,u):\n",
    "                    Auv = G[v][u]['weight']\n",
    "                Q += ( Auv - G.in_degree(u,weight='weight')*G.out_degree(v,weight='weight')/L )/L\n",
    "                Qmax -= ( G.in_degree(u,weight='weight')*G.out_degree(v,weight='weight')/L )/L\n",
    "    return Q, Qmax\n",
    "\n",
    "def scalar_assortativity(G,d):\n",
    "    x = zeros(G.number_of_nodes())\n",
    "    for i,n in enumerate(G.nodes()):\n",
    "        x[i] = d[n]\n",
    "\n",
    "    A = array(nx.adjacency_matrix(G).todense().T)\n",
    "    M = 2*A.sum().sum()\n",
    "    ki = A.sum(axis=1) #row sum is in-degree\n",
    "    ko = A.sum(axis=0) #column sum is out-degree\n",
    "    mu = ( dot(ki,x)+dot(ko,x) )/M\n",
    "\n",
    "    R, Rmax = 0, 0\n",
    "    for i in range(G.number_of_nodes()):\n",
    "        for j in range(G.number_of_nodes()):\n",
    "             R += ( A[i,j]*(x[i]-mu)*(x[j]-mu) )/M\n",
    "             Rmax += ( A[i,j]*(x[i]-mu)**2 )/M\n",
    "\n",
    "    return R, Rmax"
   ]
  },
  {
   "cell_type": "code",
   "execution_count": 4,
   "metadata": {},
   "outputs": [
    {
     "name": "stdout",
     "output_type": "stream",
     "text": [
      "FIFA exports by geographic region is assortatively mixed: 0.1200/0.5505\n",
      "FIFA exports by importers/exporters is disassortatively mixed: -0.0185/0.5748\n"
     ]
    }
   ],
   "source": [
    "G = nx.read_weighted_edgelist('fifa1998.edgelist',create_using=nx.DiGraph)\n",
    "\n",
    "c = {\n",
    "    'group1': {'Argentina','Brazil','Chile','Mexico','Colombia','Jamaica','Paraguay'},\n",
    "    'group2': {'Japan','SouthKorea'},\n",
    "    'group3': {'UnitedStates'},\n",
    "    'group4': {'Nigeria','Morocco','SouthAfrica','Cameroon','Tunisia','Iran','Turkey'},\n",
    "    'group5': {'Scotland','Belgium','Austria','Germany','Denmark','Spain','France','GreatBritain','Greece','Netherlands','Norway','Portugal','Italy','Yugoslavia','Romania','Bulgaria','Croatia','Switzerland'}\n",
    "    }\n",
    "Q, Qmax = modularity(G,c.values())\n",
    "print('FIFA exports by geographic region is assortatively mixed: %1.4f/%1.4f' % (Q,Qmax))\n",
    "\n",
    "c = {\n",
    "    'exporters': {'Argentina','Brazil','Chile','Colombia','Mexico','Scotland','Belgium','Austria','Denmark','France','Greece','Netherlands','Portugal','Yugoslavia','Croatia','Jamaica','Cameroon','Nigeria','Morocco','Tunisia'},\n",
    "    'importers': {'Paraguay','SouthKorea','UnitedStates','SouthAfrica','Iran','Turkey','Germany','Spain','GreatBritain','Norway','Italy','Romania','Bulgaria','Switzerland','Japan'}\n",
    "    }\n",
    "Q, Qmax = modularity(G,c.values())\n",
    "print('FIFA exports by importers/exporters is disassortatively mixed: %1.4f/%1.4f' % (Q,Qmax))"
   ]
  },
  {
   "cell_type": "markdown",
   "metadata": {},
   "source": [
    "#### Explination of Modularity Results\n",
    "FIFA exports by region demonstrates more assortive mixing then that of the exporters vs importers assortativity. Although I don't know much about FIFA (I'm definetly an Americain Football guy), I expect their to be more connections between countries in the same regions then with teams on different parts of the world, so this would make sence for it to be more assortative. On the other hand, the classes of importers and exporters doesn't seem to have any particular reason for interconnection between thoose in the same group (considering the definition of an import/export) so disassortative mixing is the result."
   ]
  },
  {
   "cell_type": "markdown",
   "metadata": {},
   "source": [
    "## Section 7.13: Assortativity"
   ]
  },
  {
   "cell_type": "code",
   "execution_count": 5,
   "metadata": {},
   "outputs": [
    {
     "name": "stdout",
     "output_type": "stream",
     "text": [
      "Assortativity by GDP: -0.0005\n",
      "Assortativity by life expectancy: 0.1281\n",
      "Assortativity by tariff: 0.1191\n"
     ]
    }
   ],
   "source": [
    "gdp = pickle.load(open('gdp.pkl','rb'))\n",
    "life_expectancy = pickle.load(open('life_expectancy.pkl','rb'))\n",
    "tariff = pickle.load(open('tariff.pkl','rb'))\n",
    "\n",
    "G = nx.read_weighted_edgelist('world_trade_2014.edgelist',create_using=nx.DiGraph)\n",
    "\n",
    "R, Rmax = scalar_assortativity(G,gdp)\n",
    "print('Assortativity by GDP: %1.4f' % (R/Rmax))\n",
    "R, Rmax =  scalar_assortativity(G,life_expectancy)\n",
    "print('Assortativity by life expectancy: %1.4f' % (R/Rmax))\n",
    "R, Rmax =  scalar_assortativity(G,tariff)\n",
    "print('Assortativity by tariff: %1.4f' % (R/Rmax))"
   ]
  },
  {
   "cell_type": "markdown",
   "metadata": {},
   "source": [
    "#### Explination of Assortativity Results\n",
    "The assortativity of trade based on GDP is near zero, indicating neither a assorative nor disortative mixing between contries of different GDP values. My guess as to why this is is becouse countries of higher GDP are not likely to only trade with other high GDP countries (it just wouldn't be smart) and similarily, small GDP countries would likely not trade any more with others with low GDP then thoose with Higher GDP.\n",
    "\n",
    "There is a higher assortativity between life expectancy (the same as covariance/correlation) and the amount of trade between nations. This is possibly becouse nations of higher life expectancy would trade more for luxory goods or technology, while nations with lower life expectancy are not going to trade as much.\n",
    "\n",
    "There also appears to be a correlation between average tarrif rates and the amount of trade between countries. This could posibly be due to the higher likelyhood of tarrifs to be placed on goods at a comparrable level to thoose of the nations you trade with."
   ]
  },
  {
   "cell_type": "markdown",
   "metadata": {},
   "source": [
    "#### Algebraic Manipulation of Covariance\n",
    "(*This could be done on paper... but latex is just better... I also may or may not have already done this for another class*)\n",
    "\n",
    "Let, $$\\mu = \\frac{1}{2m} \\sum_{l = 1}^{n} k_l x_l$$\n",
    "The Correlation is defined as:\n",
    "$$R = \\frac{1}{2m} \\sum_{i=1}^{n} \\sum_{j=1}^{n}\n",
    "A_{ij} (x_i - \\mu) (x_j - \\mu)$$\n",
    "This can then be expanded into\n",
    "$$R = \\frac{1}{2m} \\sum_{i=1}^{n} \\sum_{j=1}^{n}\n",
    "A_{ij} (x_i x_j - x_i \\mu - x_j \\mu + \\mu^2)$$\n",
    "The definition of the $\\mu$ can then be substituted in\n",
    "$$R = \\frac{1}{2m} \\sum_{i=1}^{n} \\sum_{j=1}^{n}\n",
    "A_{ij} (x_i x_j \n",
    "- (x_i + x_j) (\\frac{1}{2m} \\sum_{l = 1}^{n} k_l x_l) \n",
    "+ (\\frac{1}{2m} \\sum_{l = 1}^{n} k_l x_l)^2)$$\n",
    "This can then be expanded again into\n",
    "$$R = \\frac{1}{2m} \\sum_{i=1}^{n} \\sum_{j=1}^{n}(A_{ij} x_i x_j)\\\\\n",
    "- \\frac{1}{2m} \\sum_{i=1}^{n} \\sum_{j=1}^{n}(A_{ij}\n",
    "(x_i + x_j) (\\frac{1}{2m} \\sum_{l = 1}^{n} k_l x_l))\\\\\n",
    "+ \\frac{1}{2m} \\sum_{i=1}^{n} \\sum_{j=1}^{n} A_{ij}\n",
    "(\\frac{1}{2m} \\sum_{l = 1}^{n} k_l x_l)^2)\n",
    "$$\n",
    "And expanded again\n",
    "$$R = \\frac{1}{2m} \\sum_{i=1}^{n} \\sum_{j=1}^{n}(A_{ij} x_i x_j)\\\\\n",
    "- \\frac{1}{2m} \\sum_{i=1}^{n} \\sum_{j=1}^{n} A_{ij}(x_i)\n",
    "(\\frac{1}{2m} \\sum_{l = 1}^{n} k_l x_l))\\\\\n",
    "- \\frac{1}{2m} \\sum_{i=1}^{n} \\sum_{j=1}^{n} A_{ij}(x_j)\n",
    "(\\frac{1}{2m} \\sum_{l = 1}^{n} k_l x_l))\\\\\n",
    "+ \\frac{1}{2m} \\sum_{i=1}^{n} \\sum_{j=1}^{n} A_{ij}\n",
    "(\\frac{1}{2m})^2 (k_1^2 x_1^2 + k_1 k_2 x_1 x_2 + ... + k_n^2 x_n^2))\n",
    "$$\n",
    "and again (noting that the appropriete A_ij terms are encorporated into the expanded sum)\n",
    "$$R = \\frac{1}{2m} \\sum_{i=1}^{n} \\sum_{j=1}^{n}(A_{ij} x_i x_j)\\\\\n",
    "- \\frac{n^2}{(2m)^3}  (k_1^2 x_1^2 + k_1 k_2 x_1 x_2 + ... + k_n^2 x_n^2)\\\\\n",
    "- \\frac{n^2}{(2m)^3} (k_1^2 x_1^2 + k_1 k_2 x_1 x_2 + ... + k_n^2 x_n^2)\\\\\n",
    "+ (\\frac{1}{2m})^3 (k_1^2 x_1^2 + k_1 k_2 x_1 x_2 + ... + k_n^2 x_n^2))\n",
    "$$\n",
    "then eliminating the terms\n",
    "$$R = \\frac{1}{2m} \\sum_{i=1}^{n} \\sum_{j=1}^{n}(A_{ij} x_i x_j)\\\\\n",
    "- (\\frac{n}{2m})^3  (k_1^2 x_1^2 + k_1 k_2 x_1 x_2 + ... + k_n^2 x_n^2)\n",
    "$$\n",
    "then compacting (again remembering that the k_i k_j will be zero for the cases the A_ij is zero)\n",
    "$$R = \\frac{1}{2m} \\sum_{i=1}^{n} \\sum_{j=1}^{n}(A_{ij} x_i x_j)\\\\\n",
    "- (\\frac{n}{2m})^3 (\\sum_{l = 1}^{n} k_l x_l)^2\n",
    "$$\n",
    "and again\n",
    "$$R = \\frac{1}{2m} \\sum_{i=1}^{n} \\sum_{j=1}^{n}(A_{ij} x_i x_j)\\\\\n",
    "- \\frac{1}{2m} \\sum_{i=1}^{n} \\sum_{j=1}^{n} (\\frac{1}{2m} \\sum_{l = 1}^{n} k_l x_l)^2\n",
    "$$\n",
    "and again\n",
    "$$R = \\frac{1}{2m} \\sum_{i=1}^{n} \\sum_{j=1}^{n}(A_{ij} x_i x_j) - (\\frac{1}{2m} \\sum_{l = 1}^{n} k_l x_l)^2\n",
    "$$\n",
    "and again\n",
    "$$R = \\frac{1}{2m} \\sum_{i=1}^{n} \\sum_{j=1}^{n}(A_{ij} x_i x_j) - \\mu^2$$\n",
    "which is equivelent to (clearly from the definition of \\mu^2 being the full expanded sums again)\n",
    "$$R = \\frac{1}{2m} \\sum_{i=1}^{n} \\sum_{j=1}^{n}(A_{ij} - \\frac{k_i k_j}{2m}) x_i x_j$$"
   ]
  },
  {
   "cell_type": "markdown",
   "metadata": {},
   "source": [
    "## Sections 11.2-11.11: Community Detection"
   ]
  },
  {
   "cell_type": "markdown",
   "metadata": {},
   "source": [
    "# ***Need to do the KL algorithm example drawing***\n",
    "Tips:\n",
    "- Go in reverse from perfect to scrambled and make the cut set larger... then how do you make it smaller again..."
   ]
  },
  {
   "cell_type": "markdown",
   "metadata": {},
   "source": [
    "#### Modularity Matrix Summation Proof\n",
    "\n",
    "Let,\n",
    "$$B_{ij} = A_{ij} - \\frac{k_i k_j}{2m}$$\n",
    "\n",
    "When summing over all collums for a single row, the sum can be shown to be zero as follows\n",
    "$$\\sum_{j=1}^n B_{ij} \n",
    "= \\sum_{j=1}^n A_{ij} - \\frac{k_i k_j}{2m}\\\\\n",
    "= \\sum_math\n",
    "$$\n",
    "\n",
    "note... sum all row or collumn = degree of node"
   ]
  },
  {
   "cell_type": "code",
   "execution_count": null,
   "metadata": {},
   "outputs": [],
   "source": []
  },
  {
   "cell_type": "code",
   "execution_count": null,
   "metadata": {},
   "outputs": [],
   "source": []
  },
  {
   "cell_type": "markdown",
   "metadata": {},
   "source": [
    "## Community Detection in Practice\n",
    "Settings:"
   ]
  },
  {
   "cell_type": "code",
   "execution_count": 27,
   "metadata": {},
   "outputs": [],
   "source": [
    "# Settings for running sections of community detection\n",
    "small = ''#'small_' # 'small_' if small... '' if full\n",
    "raw_tweets_filename = small + 'raw_twitter'\n",
    "hashtag_sets_filename = small + 'hashtag_sets'\n",
    "edgelist_filename = small + 'edgelist'\n",
    "htag_comms_filename = small + 'htag_communities'\n",
    "#use small_raw_twitter and small_hashtag_sets for speed\n",
    "\n",
    "# Run sections\n",
    "json_2_raw_tweets = not path.exists(raw_tweets_filename + '.txt')\n",
    "raw_tweets_2_hashtag_sets = not path.exists(hashtag_sets_filename + '.txt')\n",
    "build_network = not path.exists(edgelist_filename + '.edgelist')\n",
    "find_communities_original = False # Don't run... not needed... not path.exists(htag_comms_filename + '_original' + '.txt') \n",
    "find_communities_w10_c10 = not path.exists(htag_comms_filename + '_w10_c10' + '.txt')"
   ]
  },
  {
   "cell_type": "markdown",
   "metadata": {},
   "source": [
    "#### Twitter Network Conceptual Questions\n",
    "The idea of linking hashtags together by when they occur together in a tweet could describe the similarity between them as they are used together on the same message. This would potray a similar feeling/tone or related topics of interest.\n",
    "An example of this would be the use of #fml and #disapointed. In tweets when they are used together they likely are used to describe the feeling dispair or sadness that refer to the contents of the tweet.\n",
    "An example that is not as useful would be when two hashtags are used in a tweet as polar opesites, i.e. #Good vs #Bad, or #Fire vs #Water"
   ]
  },
  {
   "cell_type": "markdown",
   "metadata": {},
   "source": [
    "#### Functions for dealing with tweets\n",
    "*** It is getting anoying to have to do this more complicated in a jupyter notebook... I'm looking foward to doing it all with scripts for my project"
   ]
  },
  {
   "cell_type": "code",
   "execution_count": 7,
   "metadata": {},
   "outputs": [],
   "source": [
    "def readJSON2List(filename):\n",
    "    \"\"\"\n",
    "    this reads a raw json, selects only the english tweets\n",
    "    and saves text to a list of strings\n",
    "    \"\"\"\n",
    "    fp = open(filename + '.json', 'r', encoding='utf-8')\n",
    "    tweets = []\n",
    "    for line in fp:\n",
    "        if len(line) > 2:\n",
    "            line_data = json.loads(line)\n",
    "            if line_data['lang'] == 'en': # only english\n",
    "                tweets.append(line_data['text'])\n",
    "    \n",
    "    return tweets"
   ]
  },
  {
   "cell_type": "code",
   "execution_count": 8,
   "metadata": {},
   "outputs": [],
   "source": [
    "def readTxt2List(filename, deliminator = '\\n uniqueDeliminator \\n'):\n",
    "    \"\"\"\n",
    "    reads from outputed txt list into a python list\n",
    "    \"\"\"\n",
    "    print('not coded...')\n",
    "    return -1"
   ]
  },
  {
   "cell_type": "code",
   "execution_count": 9,
   "metadata": {},
   "outputs": [],
   "source": [
    "def writeList2txt(tweets, filename, deliminator = '\\n uniqueDeliminator \\n'):\n",
    "    \"\"\"\n",
    "    this writes a list of tweets to a txt file\n",
    "    \"\"\"\n",
    "    with open(filename + '.txt', 'w', encoding = 'utf-8') as filehandle:\n",
    "        for tweet in tweets:\n",
    "            filehandle.write(str(tweet) + deliminator)"
   ]
  },
  {
   "cell_type": "code",
   "execution_count": 10,
   "metadata": {},
   "outputs": [],
   "source": [
    "import re\n",
    "def tweetTextAnalysis(tweet):\n",
    "    \"\"\"\n",
    "    takes tweet text (as a string) and processes it...\n",
    "    1) strip\n",
    "    2) lowercase\n",
    "    3) hashtag search\n",
    "    4) return list of hashtags (withough #)\n",
    "    \"\"\"\n",
    "    if '#' in tweet:\n",
    "        tweet = tweet.strip()\n",
    "        tweet = tweet.lower()\n",
    "        regex = \"#(\\w+)\"\n",
    "        hashtags = sorted(re.findall(regex, tweet))\n",
    "        if len(hashtags) == 0:\n",
    "            hashtags = -1\n",
    "    else:\n",
    "         hashtags = -1   \n",
    "    return hashtags"
   ]
  },
  {
   "cell_type": "code",
   "execution_count": 11,
   "metadata": {},
   "outputs": [],
   "source": [
    "def findHashtags(tweets):\n",
    "    \"\"\"\n",
    "    This interprits the list of tweets (english and post striping of json stuff)\n",
    "    and finds the co-occuring hashtags\n",
    "    \"\"\"\n",
    "    Hashtags = [str]\n",
    "    for tweet in tweets:\n",
    "        hashtags = tweetTextAnalysis(tweet)\n",
    "        if type(hashtags) == list:\n",
    "            if len(hashtags) > 1:\n",
    "                Hashtags.append(hashtags)\n",
    "    return Hashtags"
   ]
  },
  {
   "cell_type": "code",
   "execution_count": 12,
   "metadata": {},
   "outputs": [],
   "source": [
    "import collections\n",
    "from itertools import combinations\n",
    "def findHashtagPairs(Hashtags):\n",
    "    \"\"\"\n",
    "    This takes a list of hashtags in tweets and finds a histagram of pairs\n",
    "    (it ignores single hashtag tweets)\n",
    "    \"\"\"\n",
    "    Pairs = []\n",
    "    for hashtags in Hashtags:\n",
    "        if type(hashtags) != list:\n",
    "            continue\n",
    "        if len(hashtags) == 2:\n",
    "            Pairs.append(tuple(hashtags))\n",
    "        elif len(hashtags) >= 3:\n",
    "            for pair in combinations(hashtags,2):\n",
    "                Pairs.append(tuple(pair))\n",
    "    uniquePairs = collections.Counter(Pairs)\n",
    "    return uniquePairs"
   ]
  },
  {
   "cell_type": "markdown",
   "metadata": {},
   "source": [
    "### Functions for building and analyzing networks"
   ]
  },
  {
   "cell_type": "code",
   "execution_count": 13,
   "metadata": {},
   "outputs": [],
   "source": [
    "def buildNetworkFromPairs(hashtagPairs, G = nx.Graph()):\n",
    "    \"\"\"\n",
    "    Builds Network from pairs of hashtags\n",
    "    \"\"\"\n",
    "    for pair in hashtagPairs:\n",
    "        i = hashtagPairs[pair[0],pair[1]]\n",
    "        G.add_edge(pair[0],pair[1],weight=i)\n",
    "    return G"
   ]
  },
  {
   "cell_type": "code",
   "execution_count": 14,
   "metadata": {},
   "outputs": [],
   "source": [
    "def findCommunities(G):\n",
    "    \"\"\"\n",
    "    Finds Communities in the network and return as a list\n",
    "    \"\"\"\n",
    "    return list(nx_comm.label_propagation_communities(G))"
   ]
  },
  {
   "cell_type": "code",
   "execution_count": 15,
   "metadata": {},
   "outputs": [],
   "source": [
    "def removeSmallEdges(G, threshold = 10, weightProperty = 'weight'):\n",
    "    \"\"\"\n",
    "    Removes edges with weight below threshold\n",
    "    \"\"\"\n",
    "    G_temp = nx.Graph(G)\n",
    "    for edges in G_temp.edges():\n",
    "        if G_temp[edges[0]][edges[1]][weightProperty] < threshold:\n",
    "            G_temp.remove_edge(*edges)\n",
    "    return G_temp"
   ]
  },
  {
   "cell_type": "code",
   "execution_count": 41,
   "metadata": {},
   "outputs": [],
   "source": [
    "def removeSmallComponents(G, threshold = 10):\n",
    "    \"\"\"\n",
    "    Removes components with weight below threshold\n",
    "    \"\"\"\n",
    "    G_temp = nx.Graph(G)\n",
    "    for component in list(nx.connected_components(G_temp)):\n",
    "        if len(component) < threshold:\n",
    "            for node in component:\n",
    "                G_temp.remove_node(node)\n",
    "    return G_temp"
   ]
  },
  {
   "cell_type": "code",
   "execution_count": 65,
   "metadata": {},
   "outputs": [],
   "source": [
    "def analyzeGraphCommunities(G, weightThreshold, componentThreshold,\n",
    "                            htag_comms_filename,\n",
    "                            ax = -1):\n",
    "    # Copy graph\n",
    "    G_temp = nx.Graph(G)\n",
    "    # Edge Threshold\n",
    "    G_w = removeSmallEdges(G_temp, threshold = weightThreshold, weightProperty = 'weight')\n",
    "    # Component Threshold\n",
    "    G_w_c = removeSmallComponents(G_w, threshold = componentThreshold)\n",
    "    # Find cset\n",
    "    cset = findCommunities(G_w_c)\n",
    "    # Save cset\n",
    "    writeList2txt(cset,\n",
    "                  htag_comms_filename + '_w'\n",
    "                  + str(weightThreshold) + '_c' + str(componentThreshold),\n",
    "                  deliminator = '\\n')\n",
    "    # Calculate Community Sizes:\n",
    "    comm_sizes = []\n",
    "    for comm in cset:\n",
    "        comm_sizes.append(len(comm))\n",
    "    # Plot Histagram\n",
    "    if type(ax) == int:\n",
    "        fig, ax = plt.subplots()\n",
    "    ax.hist(comm_sizes,20)\n",
    "    ax.set_title('G_w' + str(weightThreshold) + '_c' + str(componentThreshold))"
   ]
  },
  {
   "cell_type": "markdown",
   "metadata": {},
   "source": [
    "### 1) Identifying co-occuring hashtags in data\n",
    "\n",
    "1. Use JSON to output tweet data directly into a text file: raw_tweets.txt"
   ]
  },
  {
   "cell_type": "code",
   "execution_count": 17,
   "metadata": {},
   "outputs": [],
   "source": [
    "#JSON 2 Raw Tweets\n",
    "if json_2_raw_tweets:\n",
    "    tweets = readJSON2List(raw_tweets_filename)\n",
    "    writeList2txt(tweets, raw_tweets_filename)\n",
    "else:\n",
    "#     tweets = readTxt2List(raw_tweets_filename) #isn't coded yet\n",
    "    tweets = readJSON2List(raw_tweets_filename)"
   ]
  },
  {
   "cell_type": "markdown",
   "metadata": {},
   "source": [
    "2. Use raw_tweets.txt to produce a list of space-deliminated list of hashtages in tweets: hashtag_sets.txt"
   ]
  },
  {
   "cell_type": "code",
   "execution_count": 18,
   "metadata": {},
   "outputs": [],
   "source": [
    "# Raw tweets to hashtag pairs\n",
    "if raw_tweets_2_hashtag_sets:\n",
    "    Hashtags = findHashtags(tweets)\n",
    "    writeList2txt(tweets, hashtag_sets_filename, deliminator = '\\n')\n",
    "else:\n",
    "    #reading directly not done yet\n",
    "    Hashtags = findHashtags(tweets)\n",
    "    writeList2txt(tweets, hashtag_sets_filename, deliminator = '\\n')\n",
    "\n",
    "hashtagPairs = findHashtagPairs(Hashtags)"
   ]
  },
  {
   "cell_type": "markdown",
   "metadata": {},
   "source": [
    "#### Empty line explination\n",
    "All of the empty lines (that I didn't purposly add) within the hashtag_sets.txt file indicate that no hashtags were included in the respective tweet. (I didn't actually follow this structure when creating mine though as I preproccessed to only include english and didn't write the empty lines to the file.)"
   ]
  },
  {
   "cell_type": "markdown",
   "metadata": {},
   "source": [
    "### 2) Building a network from co-occuring hashtags\n",
    "\n",
    "**Note:** The file hashtag_sets.txt can be interpreted as a hypergraph network as each line (tweet) being a node and the hashtags being the associated groups that they are associated with. Analysis of this network doesn't provide us with as much information about the combination of hashtags being together (i.e. they aren't the nodes of the network as we want)\n",
    "\n",
    "1. Create an empty weighted undirected network.\n",
    "2. Read in each sets of hashtags and create nodes (hashtags) and an edge linking them (or increase the weight of existing edges).\n",
    "3. Use the generated network and save it as an .edgelist file."
   ]
  },
  {
   "cell_type": "code",
   "execution_count": 19,
   "metadata": {},
   "outputs": [],
   "source": [
    "if build_network:\n",
    "    # Steps 1 and 2 done in function\n",
    "    G = buildNetworkFromPairs(hashtagPairs)\n",
    "    # Save to an edgelist file:\n",
    "    nx.write_edgelist(G, edgelist_filename + '.edgelist')\n",
    "else:\n",
    "    G = nx.read_edgelist(edgelist_filename + '.edgelist')"
   ]
  },
  {
   "cell_type": "markdown",
   "metadata": {},
   "source": [
    "### 3) Detecting communities in the network\n",
    "\n",
    "1. Use the nx_comm.label_propagation_communities to create a list of the community sets"
   ]
  },
  {
   "cell_type": "code",
   "execution_count": 25,
   "metadata": {},
   "outputs": [],
   "source": [
    "if find_communities_original:\n",
    "    cset = findCommunities(G)\n",
    "    writeList2txt(cset, htag_comms_filename + '_original', deliminator = '\\n')"
   ]
  },
  {
   "cell_type": "markdown",
   "metadata": {},
   "source": [
    "### 4) Finding the most meaningful communiites\n",
    "Analysis withough preprocessing doesn't give as much detailed information... so a few things should do make it more meaningful."
   ]
  },
  {
   "cell_type": "markdown",
   "metadata": {},
   "source": [
    "#### Methods:\n",
    "1. Introducing a weighting threashold on network edges\n",
    "\n",
    "Ignoring the low weighted edges essentially means that a certain number of tweets are required to share hashtags before they are considered connected. Raising the threshold higher will gradually restrict the hashtags that are linked to thoose that are used together very frequently. It would also eliminate the connections for lesser used hashtags as they are less likely to have enough tweets to overcome the threshold."
   ]
  },
  {
   "cell_type": "code",
   "execution_count": 21,
   "metadata": {},
   "outputs": [],
   "source": [
    "# Weighting Threshold Implimentation\n",
    "G_w10 = removeSmallEdges(G, threshold = 10, weightProperty = 'weight')"
   ]
  },
  {
   "cell_type": "markdown",
   "metadata": {},
   "source": [
    "2. Eliminating smaller connected components of the graph\n",
    "\n",
    "By eliminating connected components you would be able to better focus on the more prevelent hashtags and their relationship with each other. This would also eliminate outlier hashtags that may be mispelled or just not very common. By doing this though (depending on if a weighting threshold was already implimented) very niche hashtags and combinations that could very well be very often used with other hashtags, but not the main ones, would be eliminated."
   ]
  },
  {
   "cell_type": "code",
   "execution_count": 26,
   "metadata": {},
   "outputs": [],
   "source": [
    "# Smaller Component Elimination\n",
    "G_w10_c10 = removeSmallComponents(G_w10, threshold = 10)"
   ]
  },
  {
   "cell_type": "markdown",
   "metadata": {},
   "source": [
    "3. Save communities of hashtags as a text file"
   ]
  },
  {
   "cell_type": "code",
   "execution_count": 38,
   "metadata": {},
   "outputs": [],
   "source": [
    "# Saving Communities\n",
    "if find_communities_w10_c10:\n",
    "    cset = findCommunities(G_w10_c10)\n",
    "    writeList2txt(cset, htag_comms_filename + '_w10_c10', deliminator = '\\n')\n",
    "else:\n",
    "    # Nothing special coded\n",
    "    cset = findCommunities(G_w10_c10)"
   ]
  },
  {
   "cell_type": "markdown",
   "metadata": {},
   "source": [
    "#### Histagram plot of community sizes"
   ]
  },
  {
   "cell_type": "code",
   "execution_count": 39,
   "metadata": {},
   "outputs": [],
   "source": [
    "# Calculate Community Sizes:\n",
    "comm_sizes = []\n",
    "for comm in cset:\n",
    "    comm_sizes.append(len(comm))"
   ]
  },
  {
   "cell_type": "code",
   "execution_count": 40,
   "metadata": {},
   "outputs": [
    {
     "data": {
      "image/png": "[encoded data removed]",
      "text/plain": [
       "<Figure size 432x288 with 1 Axes>"
      ]
     },
     "metadata": {},
     "output_type": "display_data"
    }
   ],
   "source": [
    "# Plot Histagram\n",
    "plt.hist(comm_sizes,20)\n",
    "plt.xlabel('community sizes')\n",
    "plt.ylabel('number of communities')\n",
    "plt.title('Histagram of Community Sizes for G_w10_c_10')\n",
    "plt.show()"
   ]
  },
  {
   "cell_type": "markdown",
   "metadata": {},
   "source": [
    "**Analysis of histagram:**\n",
    "\n",
    "This histogram shows that there is only a few communities with greater then 10 hashtags but there are a lot of smaller communities that still exist within the graph."
   ]
  },
  {
   "cell_type": "markdown",
   "metadata": {},
   "source": [
    "#### Analysis of certain community examples\n",
    "\n",
    "**Make sense examples:**\n",
    "\n",
    "Two examples of communties that make sense are one relating to cooking and one related to adult topics:\n",
    "1. {'baking', 'cooking', 'food', 'recipes', 'foodporn', 'desserts'}\n",
    "2. {'hardcore', 'nsfw', 'celebrities', 'sexy', 'porn', 'celebrity', 'anal', 'video', 'bokep', 'milf', 'ngentot', 'jav', 'sex', 'livegirls', 'hot', 'asian', 'bisyar', 'xxx', 'free', 'teen', 'adult'}\n",
    "\n",
    "In the first community, each hashtag relates to food and probably exist as hashtags with photos of baked goods or cooking. Similarly, the secound community all include hashtags that are related to the adult industy and likely were included in promotional posts for pornographic or other adult websites.\n",
    "\n",
    "**Don't make sense examples:**\n",
    "\n",
    "Two examples of communties that don't make as much sense are as follows:\n",
    "1. {'kindlepricedrop', 'pinof7', 'jesuisdinde', 'imthankfulfor'}\n",
    "2. {'mtvhitsla', 'sorry', 'illshowyou'}\n",
    "\n",
    "In these communities there really doesn't appear to be much of a connection between them, eventhough they would have had to appear with each other in (at least 10) tweets to be connected."
   ]
  },
  {
   "cell_type": "markdown",
   "metadata": {},
   "source": [
    "### Quality Analysis\n",
    "Many communities were generated for the graph using different threshold values for minimum weight and cluster size"
   ]
  },
  {
   "cell_type": "code",
   "execution_count": 67,
   "metadata": {},
   "outputs": [
    {
     "data": {
      "image/png": "[encoded data removed]",
      "text/plain": [
       "<Figure size 2160x1440 with 16 Axes>"
      ]
     },
     "metadata": {},
     "output_type": "display_data"
    }
   ],
   "source": [
    "# Generating communities dependent on w and c\n",
    "W = [3, 5, 10, 15]\n",
    "C = [3, 5, 10, 15]\n",
    "fig, axes = plt.subplots(len(W),len(C), figsize=[30,20])\n",
    "for i, w in enumerate(W):\n",
    "    for j, c in enumerate(C):\n",
    "        analyzeGraphCommunities(G, w, c, htag_comms_filename, axes[i][j])\n",
    "plt.show()"
   ]
  },
  {
   "cell_type": "markdown",
   "metadata": {},
   "source": [
    "#### Setting affect comparrision\n",
    "|   |Weight threshold Low (3)  | Weight threshold High (15)|\n",
    "|------------------------------|:---:|:--:|\n",
    "| Component threshold Low  (3) |  Q1 | Q2 |\n",
    "| Component threshold High (15)|  Q3 | Q4 |\n",
    "\n",
    "Considering the given table with the threshold values being the extreames generated (3 and 15) a few insights can be made about the strengths and weackness of each.\n",
    "\n",
    "\n",
    "|    |            Strengths              |         Weaknesses                 |\n",
    "|----|:---------------------------------:|:----------------------------------:|\n",
    "|Q1  |Doesn't eliminate many hashtags    |A lot of communities (some split up)|\n",
    "|    |                                   |Some strangler communities          |\n",
    "|Q2  |Mostly relevent hashtag communities|Large and little # of communities   |\n",
    "|    |                                   |A lot of hashtags eliminated        |\n",
    "|Q3  |Doesn't eliminate many hashtags    |Many split up related groups        |\n",
    "|    |Very relevent hashtag communities  |   A lot of stranglers              |\n",
    "|Q4  |Mostly relevent hashtag communities|A lot of hashtags eliminated        |\n",
    "|    |                                   |Very large communities (restricted) |"
   ]
  },
  {
   "cell_type": "markdown",
   "metadata": {},
   "source": [
    "**Big Takeaways:**\n",
    "- Increasing the weighting threshold eliminates a lot of hashtags that are only interconnected with a small number of hashtags. This greatly decreases the number of hashtag communities (which can be good or bad)\n",
    "- Increasing the component threshold eliminates a lot of strangler communities (which also restricts them)."
   ]
  },
  {
   "cell_type": "markdown",
   "metadata": {},
   "source": [
    "**Q1:**\n",
    "\n",
    "This one is full of hashtags, but many of the communities are smaller strangler groupings that aren't always relevent.\n",
    "\n",
    "Some strangler examples:\n",
    "- {'my'}\n",
    "- {'hq', 'new'}\n",
    "- {'slut', 'plump'}\n",
    "\n",
    "Some good full (and relevent) communities:\n",
    "- {'entrepreneur', 'growthhacking', 'entrepreneurs', 'entrepreneurship', 'smallbiz', 'success'}\n",
    "- {'indiegames', 'game', 'madewithunity', 'gamersunite', 'indiegame', 'pixelart', 'breakingnews', 'gaming', 'cyborgrage', 'takosan', 'iosdev', 'indiedev', 'gamedev', 'retrogaming', 'gamedesign', 'parisattack', 'indie'}\n",
    "- {'slutty', 'ethnic', 'kinky', 'sexy', 'hentai', 'dressedundressed', 'wetrixxx', 'webcam', 'toket', 'fucking', 'interracial', 'fatty', 'bigtit', 'pictures', 'bbw', 'livegirls', 'blowjob', 'asian', 'employment', 'blonde', 'boobs', 'fuck', 'selfshot', 'chubby', 'ebony', 'model', 'nsfw', 'hairy', 'celebrities', 'pussy', 'women', 'hd', 'beauty', 'escorts', 'booty', 'video', 'babe', 'ngentot', 'tits', 'earnmoney', 'sex', 'twitterafterdark', 'bisyar', 'free', 'xxx', 'amateur', 'teen', 'adult', 'hardcore', 'fetish', 'girls', 'indian', 'lesbian', 'porn', 'celebrity', 'hotteen', 'freeporn', 'milf', 'sexgif', 'tv', 'handjob', 'jav', 'fappmail', 'horny', 'porngif', 'hot', 'nude', 'pornstar', 'traffic', 'models', 'fingering', 'porno', 'girlfriend', 'doll', 'bigtits', 'naked', 'blondeteen', 'topless', 'lbfm', 'shavedpussy', 'bondage', 'softcore', 'sexvideo', 'anal', 'bokep', 'blondes', 'privatepics', 'movie', 'ass', 'bigboobs', 'gossip', 'big', 'bush', 'brunette', 'cumshot', 'bdsm'}"
   ]
  },
  {
   "cell_type": "markdown",
   "metadata": {},
   "source": [
    "**Q2:**\n",
    "\n",
    "This one is a lot more restrictive, but for the most part they are relevent but smaller versions of communities comparred to Q1 or Q3.\n",
    "\n",
    "Some strangler (and relevent) examples:\n",
    "- {'christmas', 'gift'}\n",
    "- {'blessed', 'thankful'}\n",
    "- {'3', '1', '2'}\n",
    "\n",
    "Some good and relevent (but restrictive) communities:\n",
    "- {'androidgames', 'gameinsight', 'iphone', 'ipadgames', 'ipad', 'paradiseisland2', 'android', 'apple', 'iphonegames'}\n",
    "- {'casino', 'usa', 'unitedstates', 'resort', 'travel'}\n",
    "- {'jav', 'nsfw', 'sex', 'porn', 'ngentot', 'livegirls', 'hot', 'anal', 'bokep', 'teen', 'xxx', 'sexy', 'adult'}"
   ]
  },
  {
   "cell_type": "markdown",
   "metadata": {},
   "source": [
    "**Q3:**\n",
    "\n",
    "This one doesn't eliminate a lot of hashtags, but does have a lot of smaller strangler communities that sometimes don't appear relevent.\n",
    "\n",
    "Some small or split up examples:\n",
    "- {'my'}\n",
    "- {'5', '1'} & {'awkward', '2'} & {'arrow', '4'} & {'3', '찬열아생일축하해', 'happyvirusday', 'happychanyeolday'}\n",
    "\n",
    "Some large relevent examples:\n",
    "- {'cock', 'gay', 'gayarab', 'gayporn', 'videogay', 'bigcock', 'ttbm', 'weshcousin', 'beurgay', 'citebeur', 'gaysex', 'twink'}\n",
    "- {'children', 'how', 'to', 'crockpot', 'handicrafts', 'organic', 'food', 'kids', 'son', 'spanish', 'recipes', 'desserts', 'baking', 'cutie', 'cooking', 'daughter', 'baby', 'make', 'delicious'}\n",
    "- {'slutty', 'ethnic', 'kinky', 'sexy', 'hentai', 'dressedundressed', 'wetrixxx', 'webcam', 'toket', 'fucking', 'interracial', 'fatty', 'bigtit', 'pictures', 'bbw', 'livegirls', 'blowjob', 'asian', 'employment', 'blonde', 'boobs', 'fuck', 'selfshot', 'chubby', 'ebony', 'model', 'nsfw', 'hairy', 'celebrities', 'pussy', 'women', 'hd', 'beauty', 'escorts', 'booty', 'video', 'babe', 'ngentot', 'tits', 'earnmoney', 'sex', 'twitterafterdark', 'bisyar', 'free', 'xxx', 'amateur', 'teen', 'adult', 'hardcore', 'fetish', 'girls', 'indian', 'lesbian', 'porn', 'celebrity', 'hotteen', 'freeporn', 'milf', 'sexgif', 'tv', 'handjob', 'jav', 'fappmail', 'horny', 'porngif', 'hot', 'nude', 'pornstar', 'traffic', 'models', 'fingering', 'porno', 'girlfriend', 'doll', 'bigtits', 'naked', 'blondeteen', 'topless', 'lbfm', 'shavedpussy', 'bondage', 'softcore', 'sexvideo', 'anal', 'bokep', 'blondes', 'privatepics', 'movie', 'ass', 'bigboobs', 'gossip', 'big', 'bush', 'brunette', 'cumshot', 'bdsm'}"
   ]
  },
  {
   "cell_type": "markdown",
   "metadata": {},
   "source": [
    "**Q4:**\n",
    "\n",
    "This one is very restrictive and only includes a small fraction of what the others do, but it is mostly relevent with a few split up.\n",
    "\n",
    "Some relevent smaller communities (a lot of these):\n",
    "- {'russia', 'isis', 'syria', 'turkey'} *Note: Turkey probably had a double meaning w/ thanksgiving, so I thought it was weird to be paired here... although this was the time Trump was dealing with syria/isis right..\n",
    "- {'christmas', 'gift'}\n",
    "- {'photo', 'photooftheday'}\n",
    "\n",
    "Some split up/mixed up sets:\n",
    "- {'news', 'howto', 'apps', 'advertising', 'startups'} & {'startup', 'business', 'money'}\n",
    "- {'happythanksgiving', 'iamthankfulfor', 'matwh'} & {'blessed', 'thankful'}\n",
    "- {'amateur', 'softcore', 'nude'} & {'jav', 'nsfw', 'sex', 'porn', 'ngentot', 'livegirls', 'hot', 'anal', 'bokep', 'teen', 'xxx', 'sexy', 'adult'}"
   ]
  },
  {
   "cell_type": "markdown",
   "metadata": {},
   "source": [
    "### Topic Disscussion\n",
    "Looking at the topic of thanksgiving football (so the Panthers @ Cowboys, Eagles @ Lions, and Bears @ Packers).\n",
    "Another note is that this data was taken on Thanksgiving 2015 at around 3:30-4pm central time (2015-11-26 21:30 - 22:00 UTC). This lines up in the middle of the panthers and cowboys game that saw the panthers beat the cowboys (33-14) and the panthers in the lead the entire game.\n",
    "It is also important to note that the Eagles and Lions played about 4 hours prior (with a 14-45 Lions win).\n",
    "The other thing is that the Packers and Bears have a big rivalry (F**k da Bears!) that was an close upset won by the bears in the 4th quarter (17-13), so the lead up to this theoretically would be big.\n",
    "\n",
    "Looking at the tweet data we can see a few different catagories for the 4 extreames:"
   ]
  },
  {
   "cell_type": "markdown",
   "metadata": {},
   "source": [
    "**Q1:** One good chunck with the panthers and cowboys game... but then a lot of it is just scattered (and not connected to each other) through a lot of others less related topics\n",
    "- Panthers @ Cowboys game: {'gopanthers', 'cowboysvspanthers', 'pick6', 'nflthanksgiving', 'luuuuke', 'panthers', 'kurtcoleman', 'cowboys', 'dabonthemturkey', 'camnewton', 'wedemboyz', 'cowboysnation', 'fieldgoal', 'keeppounding', 'panthersnation', 'chivsgb', 'panthernation', 'interception', 'colorrush', 'wfaacowboys', 'gocowboys', 'dc4l', 'romo', 'touchdown', 'dalvscar', 'picksix', 'americasteam', 'carvsdal', 'peytonmanning', 'dallascowboys'}\n",
    "- Packers: {**'packers'**, 'heat', 'th4nksgiving', 'twit'}\n",
    "- Bears: {'bears', 'chicagobears'}\n",
    "- Eagles: {**'eagles'**, 'opseaworld', 'seaworld'}\n",
    "- General Thanksgiving (panthers and lions highlighted): {'thankfulselfie', 'recipe', 'ebook', 'giftguide', 'uncles', 'happyholidays', 'praise', 'telenovela', 'utah', 'tagsforlikes', 'holidays', 'holiday', 'thanksliving', 'thanksgivingwithnativefamilies', 'gobblegobble', 'nato', 'thanksgiving2015', 'thewalkingdead', 'funnyjpegs', 'blackfridaydeals', 'happyturkeyday', 'macysthanksgivingparade', 'fallout4', 'egypt', 'wine', 'iamthankfulfor', 'turkeyday', 'dinner', 'nofilter', 'giving', 'sunset', 'happythanksgiving', 'greysanatomy', 'friends', 'dessert', 'berniesanders', 'qbochat', 'happythankgiving', 'deepfriedturkey', 'peace', 'beautiful', **'carolinapanthers'**, 'america', **'lions'**, 'pie', 'polksgiving', 'cool', 'family', 'stuffed', 'whyimthankful', 'nyc', 'life', 'fun', 'thursday', 'blessed', 'ootd', 'godbless', 'grateful', 'theopening', 'american', 'ha', 'thanksgivingday', 'heart', 'i', 'foodcoma', 'teens', 'thanksgiving', 'lgm', 'lyfetea', 'friendsgiving', 'givingback', 'happy', 'joy', 'housefull', 'seniorday', 'thanks', 'manhattan', 'love', 'thanksgivingdinner', 'familytime', 'russianjet', 'masterofnone', 'murica', 'joytrain', 'twd', 'matwh', 'happythanksgivingeveryone', 'allaboutlove', 'kickstarter', 'gratitude', 'yearinspace', 'thankfulfor', '2015', 'sidedishes', 'turkey', 'adoptdontshop', 'thankyou', 'givethanks', 'thankful', 'faith'}\n",
    "- NFL: {'jersey', 'dfsplaybookpro', 'cfb', 'nba', 'espn', 'nhl', **'nfl'**, 'basketball', 'hockey', 'saints', 'sportsbetting'}\n",
    "- Football: {'redskins', 'soccer', 'reebok', **'football'**}"
   ]
  },
  {
   "cell_type": "markdown",
   "metadata": {},
   "source": [
    "**Q2:**\n",
    "Extreamly limited number of hashtags and restrictive to only the Panthers/Cowboys game (which was occuring during the time window)\n",
    "- Panthers @ Cowboys game: {'colorrush', 'keeppounding', 'carvsdal', 'nflthanksgiving', 'panthers', 'nfl', 'cowboys', 'football'}\n",
    "- Game hashtags: {'dalvscar', 'cowboysnation'} *Note: #dalvscar is just backwards... compared to #carvsdal"
   ]
  },
  {
   "cell_type": "markdown",
   "metadata": {},
   "source": [
    "**Q3:** Very Very similar results to Q1. A lot of scattered... but some stangler changes\n",
    "- Panthers @ Cowboys game: {'gopanthers', 'cowboysvspanthers', 'pick6', 'nflthanksgiving', 'luuuuke', 'panthers', 'kurtcoleman', 'cowboys', 'dabonthemturkey', 'camnewton', 'wedemboyz', 'cowboysnation', 'fieldgoal', 'keeppounding', 'panthersnation', 'chivsgb', 'panthernation', 'interception', 'colorrush', 'wfaacowboys', 'gocowboys', 'dc4l', 'romo', 'touchdown', 'dalvscar', 'picksix', 'americasteam', 'carvsdal', 'peytonmanning', 'dallascowboys'}\n",
    "- Packers: {**'packers'**, 'heat', 'th4nksgiving', 'twit'}\n",
    "- Bears: {'bears', 'chicagobears'}\n",
    "- Eagles: {**'eagles'**, 'opseaworld', 'seaworld'}\n",
    "- General Thanksgiving: {'thankfulselfie', 'recipe', 'ebook', 'giftguide', 'uncles', 'happyholidays', 'praise', 'telenovela', 'utah', 'tagsforlikes', 'holidays', 'holiday', 'thanksliving', 'thanksgivingwithnativefamilies', 'gobblegobble', 'nato', 'thanksgiving2015', 'thewalkingdead', 'funnyjpegs', 'blackfridaydeals', 'happyturkeyday', 'macysthanksgivingparade', 'fallout4', 'egypt', 'wine', 'iamthankfulfor', 'turkeyday', 'dinner', 'nofilter', 'giving', 'sunset', 'happythanksgiving', 'greysanatomy', 'friends', 'dessert', 'berniesanders', 'qbochat', 'happythankgiving', 'deepfriedturkey', 'peace', 'beautiful', **'carolinapanthers'**, 'america', **'lions'**, 'pie', 'polksgiving', 'cool', 'family', 'stuffed', 'whyimthankful', 'nyc', 'life', 'fun', 'thursday', 'blessed', 'ootd', 'godbless', 'grateful', 'theopening', 'american', 'ha', 'thanksgivingday', 'heart', 'i', 'foodcoma', 'teens', 'thanksgiving', 'lgm', 'lyfetea', 'friendsgiving', 'givingback', 'happy', 'joy', 'housefull', 'seniorday', 'thanks', 'manhattan', 'love', 'thanksgivingdinner', 'familytime', 'russianjet', 'masterofnone', 'murica', 'joytrain', 'twd', 'matwh', 'happythanksgivingeveryone', 'allaboutlove', 'kickstarter', 'gratitude', 'yearinspace', 'thankfulfor', '2015', 'sidedishes', 'turkey', 'adoptdontshop', 'thankyou', 'givethanks', 'thankful', 'faith'}\n",
    "- Football: {'redskins', 'soccer', 'reebok', **'football'**}\n",
    "- Football: {**'nflfootball'**, 'yahoosports'}"
   ]
  },
  {
   "cell_type": "markdown",
   "metadata": {},
   "source": [
    "**Q4:** \n",
    "Very Very restrictive... Only the one community without a lot of info about anything besides just the (likely) trending hashtags related to the panthers @ cowboys game.\n",
    "- {'colorrush', 'keeppounding', 'carvsdal', 'nflthanksgiving', 'panthers', 'nfl', 'cowboys', 'football'}\n",
    "\n"
   ]
  },
  {
   "cell_type": "markdown",
   "metadata": {},
   "source": [
    "#### Best Solution for Topic\n",
    "Of the 4 extreams, the best would probably be Q1 or Q3 becouse it included a lot of the important (and relevent) hashtags within one community while still having the other hashtags included as well. However, many of the intermediate settings resulted in better results.\n",
    "\n",
    "The best weight threshold that was tested appears to be 5. The components threshold didn't appear to have much of an effect on these groups, but setting the componet threshold to 15 eliminated much of the unrelated stranglers in the network.\n",
    "Although this does eliminate multiple (less frequent) hashtags, the communities are reaaranged to some more meaningful sets, including:\n",
    "- NFL Thanksgiving: {'sports', 'jersey', 'fieldgoal', 'dalvscar', 'carvsdal', 'nflthanksgiving', 'chivsgb', 'panthers', 'espn', 'nfl', 'cowboys', 'dabonthemturkey', 'th4nksgiving'}\n",
    "- Cowboys: {'dallascowboys', 'gocowboys', 'cowboysnation', 'wedemboyz'}\n",
    "- Panthers: {'gopanthers', 'keeppounding', 'panthernation', 'luuuuke', 'colorrush'}\n",
    "- Packers v Bears: {'packers', 'bears'}\n",
    "- Lions v Eagles: {'lions', 'eagles'}\n",
    "\n",
    "From looking at these very well laid out (and pretty complete) communities it is clear that these settings are great for grouping hashtags related to this topic."
   ]
  },
  {
   "cell_type": "code",
   "execution_count": null,
   "metadata": {},
   "outputs": [],
   "source": []
  }
 ],
 "metadata": {
  "kernelspec": {
   "display_name": "Python 3 (Spyder)",
   "language": "python3",
   "name": "python3"
  },
  "language_info": {
   "codemirror_mode": {
    "name": "ipython",
    "version": 3
   },
   "file_extension": ".py",
   "mimetype": "text/x-python",
   "name": "python",
   "nbconvert_exporter": "python",
   "pygments_lexer": "ipython3",
   "version": "3.8.5"
  }
 },
 "nbformat": 4,
 "nbformat_minor": 4
}
