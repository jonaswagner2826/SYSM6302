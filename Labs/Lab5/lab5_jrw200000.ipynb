{
 "cells": [
  {
   "cell_type": "markdown",
   "metadata": {},
   "source": [
    "# SYSM 6302 - Lab 5\n",
    "Jonas Wagner - jrw200000"
   ]
  },
  {
   "cell_type": "code",
   "execution_count": 2,
   "metadata": {},
   "outputs": [],
   "source": [
    "import networkx as nx\n",
    "import networkx.algorithms.community as nx_comm\n",
    "from numpy import zeros, dot, array\n",
    "import pickle\n",
    "import matplotlib.pyplot as plt\n",
    "import json\n",
    "import string\n",
    "import time\n",
    "import numpy as np"
   ]
  },
  {
   "cell_type": "markdown",
   "metadata": {},
   "source": [
    "## Section 7.13: Modularity\n",
    "\n",
    "The first function below calculates modularity for *directed* networks and also returns the maximum modularity value $Q_{\\text{max}}$ (NetworkX's modularity function does not report the $Q_{\\text{max}}$ value). The second function calculates scalar assortativity (NetworkX's assortativity functions differ from our book definition). "
   ]
  },
  {
   "cell_type": "code",
   "execution_count": 6,
   "metadata": {},
   "outputs": [],
   "source": [
    "def modularity(G,c):\n",
    "    d = dict()\n",
    "    for k,v in enumerate(c):\n",
    "        for n in v:\n",
    "            d[n] = k\n",
    "    L = 0\n",
    "    for u,v,data in G.edges.data():\n",
    "        L += data['weight']\n",
    "    Q, Qmax = 0,1\n",
    "    for u in G.nodes():\n",
    "        for v in G.nodes():\n",
    "            if d[u] == d[v]:\n",
    "                Auv = 0\n",
    "                if G.has_edge(v,u):\n",
    "                    Auv = G[v][u]['weight']\n",
    "                Q += ( Auv - G.in_degree(u,weight='weight')*G.out_degree(v,weight='weight')/L )/L\n",
    "                Qmax -= ( G.in_degree(u,weight='weight')*G.out_degree(v,weight='weight')/L )/L\n",
    "    return Q, Qmax\n",
    "\n",
    "def scalar_assortativity(G,d):\n",
    "    x = zeros(G.number_of_nodes())\n",
    "    for i,n in enumerate(G.nodes()):\n",
    "        x[i] = d[n]\n",
    "\n",
    "    A = array(nx.adjacency_matrix(G).todense().T)\n",
    "    M = 2*A.sum().sum()\n",
    "    ki = A.sum(axis=1) #row sum is in-degree\n",
    "    ko = A.sum(axis=0) #column sum is out-degree\n",
    "    mu = ( dot(ki,x)+dot(ko,x) )/M\n",
    "\n",
    "    R, Rmax = 0, 0\n",
    "    for i in range(G.number_of_nodes()):\n",
    "        for j in range(G.number_of_nodes()):\n",
    "             R += ( A[i,j]*(x[i]-mu)*(x[j]-mu) )/M\n",
    "             Rmax += ( A[i,j]*(x[i]-mu)**2 )/M\n",
    "\n",
    "    return R, Rmax"
   ]
  },
  {
   "cell_type": "code",
   "execution_count": 7,
   "metadata": {},
   "outputs": [
    {
     "name": "stdout",
     "output_type": "stream",
     "text": [
      "FIFA exports by geographic region is assortatively mixed: 0.1200/0.5505\n",
      "FIFA exports by importers/exporters is disassortatively mixed: -0.0185/0.5748\n"
     ]
    }
   ],
   "source": [
    "G = nx.read_weighted_edgelist('fifa1998.edgelist',create_using=nx.DiGraph)\n",
    "\n",
    "c = {\n",
    "    'group1': {'Argentina','Brazil','Chile','Mexico','Colombia','Jamaica','Paraguay'},\n",
    "    'group2': {'Japan','SouthKorea'},\n",
    "    'group3': {'UnitedStates'},\n",
    "    'group4': {'Nigeria','Morocco','SouthAfrica','Cameroon','Tunisia','Iran','Turkey'},\n",
    "    'group5': {'Scotland','Belgium','Austria','Germany','Denmark','Spain','France','GreatBritain','Greece','Netherlands','Norway','Portugal','Italy','Yugoslavia','Romania','Bulgaria','Croatia','Switzerland'}\n",
    "    }\n",
    "Q, Qmax = modularity(G,c.values())\n",
    "print('FIFA exports by geographic region is assortatively mixed: %1.4f/%1.4f' % (Q,Qmax))\n",
    "\n",
    "c = {\n",
    "    'exporters': {'Argentina','Brazil','Chile','Colombia','Mexico','Scotland','Belgium','Austria','Denmark','France','Greece','Netherlands','Portugal','Yugoslavia','Croatia','Jamaica','Cameroon','Nigeria','Morocco','Tunisia'},\n",
    "    'importers': {'Paraguay','SouthKorea','UnitedStates','SouthAfrica','Iran','Turkey','Germany','Spain','GreatBritain','Norway','Italy','Romania','Bulgaria','Switzerland','Japan'}\n",
    "    }\n",
    "Q, Qmax = modularity(G,c.values())\n",
    "print('FIFA exports by importers/exporters is disassortatively mixed: %1.4f/%1.4f' % (Q,Qmax))"
   ]
  },
  {
   "cell_type": "markdown",
   "metadata": {},
   "source": [
    "#### Explination of Modularity Results\n",
    "FIFA exports by region demonstrates more assortive mixing then that of the exporters vs importers assortativity. Although I don't know much about FIFA (I'm definetly an Americain Football guy), I expect their to be more connections between countries in the same regions then with teams on different parts of the world, so this would make sence for it to be more assortative. On the other hand, the classes of importers and exporters doesn't seem to have any particular reason for interconnection between thoose in the same group (considering the definition of an import/export) so disassortative mixing is the result."
   ]
  },
  {
   "cell_type": "markdown",
   "metadata": {},
   "source": [
    "## Section 7.13: Assortativity"
   ]
  },
  {
   "cell_type": "code",
   "execution_count": 10,
   "metadata": {},
   "outputs": [
    {
     "name": "stdout",
     "output_type": "stream",
     "text": [
      "Assortativity by GDP: -0.0005\n",
      "Assortativity by life expectancy: 0.1281\n",
      "Assortativity by tariff: 0.1191\n"
     ]
    }
   ],
   "source": [
    "gdp = pickle.load(open('gdp.pkl','rb'))\n",
    "life_expectancy = pickle.load(open('life_expectancy.pkl','rb'))\n",
    "tariff = pickle.load(open('tariff.pkl','rb'))\n",
    "\n",
    "G = nx.read_weighted_edgelist('world_trade_2014.edgelist',create_using=nx.DiGraph)\n",
    "\n",
    "R, Rmax = scalar_assortativity(G,gdp)\n",
    "print('Assortativity by GDP: %1.4f' % (R/Rmax))\n",
    "R, Rmax =  scalar_assortativity(G,life_expectancy)\n",
    "print('Assortativity by life expectancy: %1.4f' % (R/Rmax))\n",
    "R, Rmax =  scalar_assortativity(G,tariff)\n",
    "print('Assortativity by tariff: %1.4f' % (R/Rmax))"
   ]
  },
  {
   "cell_type": "markdown",
   "metadata": {},
   "source": [
    "#### Explination of Assortativity Results\n",
    "The assortativity of trade based on GDP is near zero, indicating neither a assorative nor disortative mixing between contries of different GDP values. My guess as to why this is is becouse countries of higher GDP are not likely to only trade with other high GDP countries (it just wouldn't be smart) and similarily, small GDP countries would likely not trade any more with others with low GDP then thoose with Higher GDP.\n",
    "\n",
    "There is a higher assortativity between life expectancy (the same as covariance/correlation) and the amount of trade between nations. This is possibly becouse nations of higher life expectancy would trade more for luxory goods or technology, while nations with lower life expectancy are not going to trade as much.\n",
    "\n",
    "There also appears to be a correlation between average tarrif rates and the amount of trade between countries. This could posibly be due to the higher likelyhood of tarrifs to be placed on goods at a comparrable level to thoose of the nations you trade with."
   ]
  },
  {
   "cell_type": "markdown",
   "metadata": {},
   "source": [
    "#### Algebraic Manipulation of Covariance\n",
    "(*This could be done on paper... but latex is just better... I also may or may not have already done this for another class*)\n",
    "\n",
    "Let, $$\\mu = \\frac{1}{2m} \\sum_{l = 1}^{n} k_l x_l$$\n",
    "The Correlation is defined as:\n",
    "$$R = \\frac{1}{2m} \\sum_{i=1}^{n} \\sum_{j=1}^{n}\n",
    "A_{ij} (x_i - \\mu) (x_j - \\mu)$$\n",
    "This can then be expanded into\n",
    "$$R = \\frac{1}{2m} \\sum_{i=1}^{n} \\sum_{j=1}^{n}\n",
    "A_{ij} (x_i x_j - x_i \\mu - x_j \\mu + \\mu^2)$$\n",
    "The definition of the $\\mu$ can then be substituted in\n",
    "$$R = \\frac{1}{2m} \\sum_{i=1}^{n} \\sum_{j=1}^{n}\n",
    "A_{ij} (x_i x_j \n",
    "- (x_i + x_j) (\\frac{1}{2m} \\sum_{l = 1}^{n} k_l x_l) \n",
    "+ (\\frac{1}{2m} \\sum_{l = 1}^{n} k_l x_l)^2)$$\n",
    "This can then be expanded again into\n",
    "$$R = \\frac{1}{2m} \\sum_{i=1}^{n} \\sum_{j=1}^{n}(A_{ij} x_i x_j)\\\\\n",
    "- \\frac{1}{2m} \\sum_{i=1}^{n} \\sum_{j=1}^{n}(A_{ij}\n",
    "(x_i + x_j) (\\frac{1}{2m} \\sum_{l = 1}^{n} k_l x_l))\\\\\n",
    "+ \\frac{1}{2m} \\sum_{i=1}^{n} \\sum_{j=1}^{n} A_{ij}\n",
    "(\\frac{1}{2m} \\sum_{l = 1}^{n} k_l x_l)^2)\n",
    "$$\n",
    "And expanded again\n",
    "$$R = \\frac{1}{2m} \\sum_{i=1}^{n} \\sum_{j=1}^{n}(A_{ij} x_i x_j)\\\\\n",
    "- \\frac{1}{2m} \\sum_{i=1}^{n} \\sum_{j=1}^{n} A_{ij}(x_i)\n",
    "(\\frac{1}{2m} \\sum_{l = 1}^{n} k_l x_l))\\\\\n",
    "- \\frac{1}{2m} \\sum_{i=1}^{n} \\sum_{j=1}^{n} A_{ij}(x_j)\n",
    "(\\frac{1}{2m} \\sum_{l = 1}^{n} k_l x_l))\\\\\n",
    "+ \\frac{1}{2m} \\sum_{i=1}^{n} \\sum_{j=1}^{n} A_{ij}\n",
    "(\\frac{1}{2m})^2 (k_1^2 x_1^2 + k_1 k_2 x_1 x_2 + ... + k_n^2 x_n^2))\n",
    "$$\n",
    "and again (noting that the appropriete A_ij terms are encorporated into the expanded sum)\n",
    "$$R = \\frac{1}{2m} \\sum_{i=1}^{n} \\sum_{j=1}^{n}(A_{ij} x_i x_j)\\\\\n",
    "- \\frac{n^2}{(2m)^3}  (k_1^2 x_1^2 + k_1 k_2 x_1 x_2 + ... + k_n^2 x_n^2)\\\\\n",
    "- \\frac{n^2}{(2m)^3} (k_1^2 x_1^2 + k_1 k_2 x_1 x_2 + ... + k_n^2 x_n^2)\\\\\n",
    "+ (\\frac{1}{2m})^3 (k_1^2 x_1^2 + k_1 k_2 x_1 x_2 + ... + k_n^2 x_n^2))\n",
    "$$\n",
    "then eliminating the terms\n",
    "$$R = \\frac{1}{2m} \\sum_{i=1}^{n} \\sum_{j=1}^{n}(A_{ij} x_i x_j)\\\\\n",
    "- (\\frac{n}{2m})^3  (k_1^2 x_1^2 + k_1 k_2 x_1 x_2 + ... + k_n^2 x_n^2)\n",
    "$$\n",
    "then compacting (again remembering that the k_i k_j will be zero for the cases the A_ij is zero)\n",
    "$$R = \\frac{1}{2m} \\sum_{i=1}^{n} \\sum_{j=1}^{n}(A_{ij} x_i x_j)\\\\\n",
    "- (\\frac{n}{2m})^3 (\\sum_{l = 1}^{n} k_l x_l)^2\n",
    "$$\n",
    "and again\n",
    "$$R = \\frac{1}{2m} \\sum_{i=1}^{n} \\sum_{j=1}^{n}(A_{ij} x_i x_j)\\\\\n",
    "- \\frac{1}{2m} \\sum_{i=1}^{n} \\sum_{j=1}^{n} (\\frac{1}{2m} \\sum_{l = 1}^{n} k_l x_l)^2\n",
    "$$\n",
    "and again\n",
    "$$R = \\frac{1}{2m} \\sum_{i=1}^{n} \\sum_{j=1}^{n}(A_{ij} x_i x_j) - (\\frac{1}{2m} \\sum_{l = 1}^{n} k_l x_l)^2\n",
    "$$\n",
    "and again\n",
    "$$R = \\frac{1}{2m} \\sum_{i=1}^{n} \\sum_{j=1}^{n}(A_{ij} x_i x_j) - \\mu^2$$\n",
    "which is equivelent to (clearly from the definition of \\mu^2 being the full expanded sums again)\n",
    "$$R = \\frac{1}{2m} \\sum_{i=1}^{n} \\sum_{j=1}^{n}(A_{ij} - \\frac{k_i k_j}{2m}) x_i x_j$$"
   ]
  },
  {
   "cell_type": "markdown",
   "metadata": {},
   "source": [
    "## Sections 11.2-11.11: Community Detection"
   ]
  },
  {
   "cell_type": "markdown",
   "metadata": {},
   "source": [
    "# ***Need to do the KL algorithm example drawing"
   ]
  },
  {
   "cell_type": "markdown",
   "metadata": {},
   "source": [
    "#### Modularity Matrix Summation Proof\n",
    "\n",
    "Let,\n",
    "$$B_{ij} = A_{ij} - \\frac{k_i k_j}{2m}$$\n",
    "\n",
    "When summing over all collums for a single row, the sum can be shown to be zero as follows\n",
    "$$\\sum_{j=1}^n B_{ij} \n",
    "= \\sum_{j=1}^n A_{ij} - \\frac{k_i k_j}{2m}\\\\\n",
    "= \\sum_math\n",
    "$$"
   ]
  }
 ],
 "metadata": {
  "kernelspec": {
   "display_name": "Python 3 (Spyder)",
   "language": "python3",
   "name": "python3"
  },
  "language_info": {
   "codemirror_mode": {
    "name": "ipython",
    "version": 3
   },
   "file_extension": ".py",
   "mimetype": "text/x-python",
   "name": "python",
   "nbconvert_exporter": "python",
   "pygments_lexer": "ipython3",
   "version": "3.8.5"
  }
 },
 "nbformat": 4,
 "nbformat_minor": 4
}
