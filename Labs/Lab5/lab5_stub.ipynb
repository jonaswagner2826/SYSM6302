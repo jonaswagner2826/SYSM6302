{
 "cells": [
  {
   "cell_type": "code",
   "execution_count": 40,
   "metadata": {},
   "outputs": [],
   "source": [
    "import networkx as nx\n",
    "import networkx.algorithms.community as nx_comm\n",
    "from numpy import zeros, dot, array\n",
    "import pickle\n",
    "import matplotlib.pyplot as plt\n",
    "import json\n",
    "import string\n",
    "import time"
   ]
  },
  {
   "cell_type": "markdown",
   "metadata": {},
   "source": [
    "## Modularity\n",
    "\n",
    "The first function below calculates modularity for *directed* networks and also returns the maximum modularity value $Q_{\\text{max}}$ (NetworkX's modularity function does not report the $Q_{\\text{max}}$ value). The second function calculates scalar assortativity (NetworkX's assortativity functions differ from our book definition). "
   ]
  },
  {
   "cell_type": "code",
   "execution_count": 45,
   "metadata": {},
   "outputs": [],
   "source": [
    "def modularity(G,c):\n",
    "    d = dict()\n",
    "    for k,v in enumerate(c):\n",
    "        for n in v:\n",
    "            d[n] = k\n",
    "    L = 0\n",
    "    for u,v,data in G.edges.data():\n",
    "        L += data['weight']\n",
    "    Q, Qmax = 0,1\n",
    "    for u in G.nodes():\n",
    "        for v in G.nodes():\n",
    "            if d[u] == d[v]:\n",
    "                Auv = 0\n",
    "                if G.has_edge(v,u):\n",
    "                    Auv = G[v][u]['weight']\n",
    "                Q += ( Auv - G.in_degree(u,weight='weight')*G.out_degree(v,weight='weight')/L )/L\n",
    "                Qmax -= ( G.in_degree(u,weight='weight')*G.out_degree(v,weight='weight')/L )/L\n",
    "    return Q, Qmax\n",
    "\n",
    "def scalar_assortativity(G,d):\n",
    "    x = zeros(G.number_of_nodes())\n",
    "    for i,n in enumerate(G.nodes()):\n",
    "        x[i] = d[n]\n",
    "\n",
    "    A = array(nx.adjacency_matrix(G).todense().T)\n",
    "    M = 2*A.sum().sum()\n",
    "    ki = A.sum(axis=1) #row sum is in-degree\n",
    "    ko = A.sum(axis=0) #column sum is out-degree\n",
    "    mu = ( dot(ki,x)+dot(ko,x) )/M\n",
    "\n",
    "    R, Rmax = 0, 0\n",
    "    for i in range(G.number_of_nodes()):\n",
    "        for j in range(G.number_of_nodes()):\n",
    "             R += ( A[i,j]*(x[i]-mu)*(x[j]-mu) )/M\n",
    "             Rmax += ( A[i,j]*(x[i]-mu)**2 )/M\n",
    "\n",
    "    return R, Rmax"
   ]
  },
  {
   "cell_type": "code",
   "execution_count": 121,
   "metadata": {},
   "outputs": [],
   "source": [
    "G = nx.read_weighted_edgelist('fifa1998.edgelist',create_using=nx.DiGraph)\n",
    "\n",
    "c = {\n",
    "    'group1': {'Argentina','Brazil','Chile','Mexico','Colombia','Jamaica','Paraguay'},\n",
    "    'group2': {'Japan','SouthKorea'},\n",
    "    'group3': {'UnitedStates'},\n",
    "    'group4': {'Nigeria','Morocco','SouthAfrica','Cameroon','Tunisia','Iran','Turkey'},\n",
    "    'group5': {'Scotland','Belgium','Austria','Germany','Denmark','Spain','France','GreatBritain','Greece','Netherlands','Norway','Portugal','Italy','Yugoslavia','Romania','Bulgaria','Croatia','Switzerland'}\n",
    "    }\n",
    "Q, Qmax = modularity(G,c.values())\n",
    "print('FIFA exports by geographic region is assortatively mixed: %1.4f/%1.4f' % (Q,Qmax))\n",
    "\n",
    "c = {\n",
    "    'exporters': {'Argentina','Brazil','Chile','Colombia','Mexico','Scotland','Belgium','Austria','Denmark','France','Greece','Netherlands','Portugal','Yugoslavia','Croatia','Jamaica','Cameroon','Nigeria','Morocco','Tunisia'},\n",
    "    'importers': {'Paraguay','SouthKorea','UnitedStates','SouthAfrica','Iran','Turkey','Germany','Spain','GreatBritain','Norway','Italy','Romania','Bulgaria','Switzerland','Japan'}\n",
    "    }\n",
    "Q, Qmax = modularity(G,c.values())\n",
    "print('FIFA exports by importers/exporters is disassortatively mixed: %1.4f/%1.4f' % (Q,Qmax))"
   ]
  },
  {
   "cell_type": "markdown",
   "metadata": {},
   "source": [
    "## Assortativity"
   ]
  },
  {
   "cell_type": "code",
   "execution_count": 122,
   "metadata": {},
   "outputs": [],
   "source": [
    "gdp = pickle.load(open('gdp.pkl','rb'))\n",
    "life_expectancy = pickle.load(open('life_expectancy.pkl','rb'))\n",
    "tariff = pickle.load(open('tariff.pkl','rb'))\n",
    "\n",
    "G = nx.read_weighted_edgelist('world_trade_2014.edgelist',create_using=nx.DiGraph)\n",
    "\n",
    "R, Rmax = scalar_assortativity(G,gdp)\n",
    "print('Assortativity by GDP: %1.4f' % (R/Rmax))\n",
    "R, Rmax =  scalar_assortativity(G,life_expectancy)\n",
    "print('Assortativity by life expectancy: %1.4f' % (R/Rmax))\n",
    "R, Rmax =  scalar_assortativity(G,tariff)\n",
    "print('Assortativity by tariff: %1.4f' % (R/Rmax))"
   ]
  },
  {
   "cell_type": "markdown",
   "metadata": {},
   "source": [
    "## Community Detection"
   ]
  },
  {
   "cell_type": "code",
   "execution_count": null,
   "metadata": {},
   "outputs": [],
   "source": []
  }
 ],
 "metadata": {
  "kernelspec": {
   "display_name": "Python 3",
   "language": "python",
   "name": "python3"
  },
  "language_info": {
   "codemirror_mode": {
    "name": "ipython",
    "version": 3
   },
   "file_extension": ".py",
   "mimetype": "text/x-python",
   "name": "python",
   "nbconvert_exporter": "python",
   "pygments_lexer": "ipython3",
   "version": "3.8.5"
  }
 },
 "nbformat": 4,
 "nbformat_minor": 4
}
